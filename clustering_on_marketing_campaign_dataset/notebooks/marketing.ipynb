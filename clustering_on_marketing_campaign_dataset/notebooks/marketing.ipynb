{
 "cells": [
  {
   "cell_type": "markdown",
   "id": "651d1cff",
   "metadata": {},
   "source": [
    "___\n",
    "### Perform Data Preprocessing and Feature Scaling on this data. "
   ]
  },
  {
   "cell_type": "code",
   "execution_count": 25,
   "id": "ab46ad00",
   "metadata": {},
   "outputs": [],
   "source": [
    "import pandas as pd"
   ]
  },
  {
   "cell_type": "code",
   "execution_count": 26,
   "id": "33870c02",
   "metadata": {},
   "outputs": [],
   "source": [
    "df = pd.read_csv('../data/marketing_campaign.csv', sep='\t')"
   ]
  },
  {
   "cell_type": "code",
   "execution_count": 27,
   "id": "23d771d1",
   "metadata": {},
   "outputs": [
    {
     "data": {
      "text/html": [
       "<div>\n",
       "<style scoped>\n",
       "    .dataframe tbody tr th:only-of-type {\n",
       "        vertical-align: middle;\n",
       "    }\n",
       "\n",
       "    .dataframe tbody tr th {\n",
       "        vertical-align: top;\n",
       "    }\n",
       "\n",
       "    .dataframe thead th {\n",
       "        text-align: right;\n",
       "    }\n",
       "</style>\n",
       "<table border=\"1\" class=\"dataframe\">\n",
       "  <thead>\n",
       "    <tr style=\"text-align: right;\">\n",
       "      <th></th>\n",
       "      <th>ID</th>\n",
       "      <th>Year_Birth</th>\n",
       "      <th>Education</th>\n",
       "      <th>Marital_Status</th>\n",
       "      <th>Income</th>\n",
       "      <th>Kidhome</th>\n",
       "      <th>Teenhome</th>\n",
       "      <th>Dt_Customer</th>\n",
       "      <th>Recency</th>\n",
       "      <th>MntWines</th>\n",
       "      <th>...</th>\n",
       "      <th>NumWebVisitsMonth</th>\n",
       "      <th>AcceptedCmp3</th>\n",
       "      <th>AcceptedCmp4</th>\n",
       "      <th>AcceptedCmp5</th>\n",
       "      <th>AcceptedCmp1</th>\n",
       "      <th>AcceptedCmp2</th>\n",
       "      <th>Complain</th>\n",
       "      <th>Z_CostContact</th>\n",
       "      <th>Z_Revenue</th>\n",
       "      <th>Response</th>\n",
       "    </tr>\n",
       "  </thead>\n",
       "  <tbody>\n",
       "    <tr>\n",
       "      <th>0</th>\n",
       "      <td>5524</td>\n",
       "      <td>1957</td>\n",
       "      <td>Graduation</td>\n",
       "      <td>Single</td>\n",
       "      <td>58138.0</td>\n",
       "      <td>0</td>\n",
       "      <td>0</td>\n",
       "      <td>04-09-2012</td>\n",
       "      <td>58</td>\n",
       "      <td>635</td>\n",
       "      <td>...</td>\n",
       "      <td>7</td>\n",
       "      <td>0</td>\n",
       "      <td>0</td>\n",
       "      <td>0</td>\n",
       "      <td>0</td>\n",
       "      <td>0</td>\n",
       "      <td>0</td>\n",
       "      <td>3</td>\n",
       "      <td>11</td>\n",
       "      <td>1</td>\n",
       "    </tr>\n",
       "    <tr>\n",
       "      <th>1</th>\n",
       "      <td>2174</td>\n",
       "      <td>1954</td>\n",
       "      <td>Graduation</td>\n",
       "      <td>Single</td>\n",
       "      <td>46344.0</td>\n",
       "      <td>1</td>\n",
       "      <td>1</td>\n",
       "      <td>08-03-2014</td>\n",
       "      <td>38</td>\n",
       "      <td>11</td>\n",
       "      <td>...</td>\n",
       "      <td>5</td>\n",
       "      <td>0</td>\n",
       "      <td>0</td>\n",
       "      <td>0</td>\n",
       "      <td>0</td>\n",
       "      <td>0</td>\n",
       "      <td>0</td>\n",
       "      <td>3</td>\n",
       "      <td>11</td>\n",
       "      <td>0</td>\n",
       "    </tr>\n",
       "    <tr>\n",
       "      <th>2</th>\n",
       "      <td>4141</td>\n",
       "      <td>1965</td>\n",
       "      <td>Graduation</td>\n",
       "      <td>Together</td>\n",
       "      <td>71613.0</td>\n",
       "      <td>0</td>\n",
       "      <td>0</td>\n",
       "      <td>21-08-2013</td>\n",
       "      <td>26</td>\n",
       "      <td>426</td>\n",
       "      <td>...</td>\n",
       "      <td>4</td>\n",
       "      <td>0</td>\n",
       "      <td>0</td>\n",
       "      <td>0</td>\n",
       "      <td>0</td>\n",
       "      <td>0</td>\n",
       "      <td>0</td>\n",
       "      <td>3</td>\n",
       "      <td>11</td>\n",
       "      <td>0</td>\n",
       "    </tr>\n",
       "  </tbody>\n",
       "</table>\n",
       "<p>3 rows × 29 columns</p>\n",
       "</div>"
      ],
      "text/plain": [
       "     ID  Year_Birth   Education Marital_Status   Income  Kidhome  Teenhome  \\\n",
       "0  5524        1957  Graduation         Single  58138.0        0         0   \n",
       "1  2174        1954  Graduation         Single  46344.0        1         1   \n",
       "2  4141        1965  Graduation       Together  71613.0        0         0   \n",
       "\n",
       "  Dt_Customer  Recency  MntWines  ...  NumWebVisitsMonth  AcceptedCmp3  \\\n",
       "0  04-09-2012       58       635  ...                  7             0   \n",
       "1  08-03-2014       38        11  ...                  5             0   \n",
       "2  21-08-2013       26       426  ...                  4             0   \n",
       "\n",
       "   AcceptedCmp4  AcceptedCmp5  AcceptedCmp1  AcceptedCmp2  Complain  \\\n",
       "0             0             0             0             0         0   \n",
       "1             0             0             0             0         0   \n",
       "2             0             0             0             0         0   \n",
       "\n",
       "   Z_CostContact  Z_Revenue  Response  \n",
       "0              3         11         1  \n",
       "1              3         11         0  \n",
       "2              3         11         0  \n",
       "\n",
       "[3 rows x 29 columns]"
      ]
     },
     "execution_count": 27,
     "metadata": {},
     "output_type": "execute_result"
    }
   ],
   "source": [
    "df.head(3)"
   ]
  },
  {
   "cell_type": "code",
   "execution_count": 28,
   "id": "c25c5b0f",
   "metadata": {},
   "outputs": [
    {
     "data": {
      "text/plain": [
       "(2240, 29)"
      ]
     },
     "execution_count": 28,
     "metadata": {},
     "output_type": "execute_result"
    }
   ],
   "source": [
    "df.shape"
   ]
  },
  {
   "cell_type": "code",
   "execution_count": 29,
   "id": "4be77385",
   "metadata": {},
   "outputs": [
    {
     "data": {
      "text/plain": [
       "ID                     2240\n",
       "Year_Birth             2240\n",
       "Education              2240\n",
       "Marital_Status         2240\n",
       "Income                 2216\n",
       "Kidhome                2240\n",
       "Teenhome               2240\n",
       "Dt_Customer            2240\n",
       "Recency                2240\n",
       "MntWines               2240\n",
       "MntFruits              2240\n",
       "MntMeatProducts        2240\n",
       "MntFishProducts        2240\n",
       "MntSweetProducts       2240\n",
       "MntGoldProds           2240\n",
       "NumDealsPurchases      2240\n",
       "NumWebPurchases        2240\n",
       "NumCatalogPurchases    2240\n",
       "NumStorePurchases      2240\n",
       "NumWebVisitsMonth      2240\n",
       "AcceptedCmp3           2240\n",
       "AcceptedCmp4           2240\n",
       "AcceptedCmp5           2240\n",
       "AcceptedCmp1           2240\n",
       "AcceptedCmp2           2240\n",
       "Complain               2240\n",
       "Z_CostContact          2240\n",
       "Z_Revenue              2240\n",
       "Response               2240\n",
       "dtype: int64"
      ]
     },
     "execution_count": 29,
     "metadata": {},
     "output_type": "execute_result"
    }
   ],
   "source": [
    "df.count()"
   ]
  },
  {
   "cell_type": "code",
   "execution_count": 30,
   "id": "1a751e32",
   "metadata": {},
   "outputs": [
    {
     "name": "stdout",
     "output_type": "stream",
     "text": [
      "<class 'pandas.core.frame.DataFrame'>\n",
      "RangeIndex: 2240 entries, 0 to 2239\n",
      "Data columns (total 29 columns):\n",
      " #   Column               Non-Null Count  Dtype  \n",
      "---  ------               --------------  -----  \n",
      " 0   ID                   2240 non-null   int64  \n",
      " 1   Year_Birth           2240 non-null   int64  \n",
      " 2   Education            2240 non-null   object \n",
      " 3   Marital_Status       2240 non-null   object \n",
      " 4   Income               2216 non-null   float64\n",
      " 5   Kidhome              2240 non-null   int64  \n",
      " 6   Teenhome             2240 non-null   int64  \n",
      " 7   Dt_Customer          2240 non-null   object \n",
      " 8   Recency              2240 non-null   int64  \n",
      " 9   MntWines             2240 non-null   int64  \n",
      " 10  MntFruits            2240 non-null   int64  \n",
      " 11  MntMeatProducts      2240 non-null   int64  \n",
      " 12  MntFishProducts      2240 non-null   int64  \n",
      " 13  MntSweetProducts     2240 non-null   int64  \n",
      " 14  MntGoldProds         2240 non-null   int64  \n",
      " 15  NumDealsPurchases    2240 non-null   int64  \n",
      " 16  NumWebPurchases      2240 non-null   int64  \n",
      " 17  NumCatalogPurchases  2240 non-null   int64  \n",
      " 18  NumStorePurchases    2240 non-null   int64  \n",
      " 19  NumWebVisitsMonth    2240 non-null   int64  \n",
      " 20  AcceptedCmp3         2240 non-null   int64  \n",
      " 21  AcceptedCmp4         2240 non-null   int64  \n",
      " 22  AcceptedCmp5         2240 non-null   int64  \n",
      " 23  AcceptedCmp1         2240 non-null   int64  \n",
      " 24  AcceptedCmp2         2240 non-null   int64  \n",
      " 25  Complain             2240 non-null   int64  \n",
      " 26  Z_CostContact        2240 non-null   int64  \n",
      " 27  Z_Revenue            2240 non-null   int64  \n",
      " 28  Response             2240 non-null   int64  \n",
      "dtypes: float64(1), int64(25), object(3)\n",
      "memory usage: 507.6+ KB\n"
     ]
    }
   ],
   "source": [
    "df.info()"
   ]
  },
  {
   "cell_type": "code",
   "execution_count": 31,
   "id": "82a7ebd7",
   "metadata": {},
   "outputs": [
    {
     "data": {
      "text/plain": [
       "ID                      0\n",
       "Year_Birth              0\n",
       "Education               0\n",
       "Marital_Status          0\n",
       "Income                 24\n",
       "Kidhome                 0\n",
       "Teenhome                0\n",
       "Dt_Customer             0\n",
       "Recency                 0\n",
       "MntWines                0\n",
       "MntFruits               0\n",
       "MntMeatProducts         0\n",
       "MntFishProducts         0\n",
       "MntSweetProducts        0\n",
       "MntGoldProds            0\n",
       "NumDealsPurchases       0\n",
       "NumWebPurchases         0\n",
       "NumCatalogPurchases     0\n",
       "NumStorePurchases       0\n",
       "NumWebVisitsMonth       0\n",
       "AcceptedCmp3            0\n",
       "AcceptedCmp4            0\n",
       "AcceptedCmp5            0\n",
       "AcceptedCmp1            0\n",
       "AcceptedCmp2            0\n",
       "Complain                0\n",
       "Z_CostContact           0\n",
       "Z_Revenue               0\n",
       "Response                0\n",
       "dtype: int64"
      ]
     },
     "execution_count": 31,
     "metadata": {},
     "output_type": "execute_result"
    }
   ],
   "source": [
    "df.isnull().sum()"
   ]
  },
  {
   "cell_type": "markdown",
   "id": "a1655b54",
   "metadata": {},
   "source": [
    "___\n",
    "- __A. Handle the missing values.__"
   ]
  },
  {
   "cell_type": "code",
   "execution_count": 32,
   "id": "59ae7dd1",
   "metadata": {},
   "outputs": [
    {
     "data": {
      "text/plain": [
       "0"
      ]
     },
     "execution_count": 32,
     "metadata": {},
     "output_type": "execute_result"
    }
   ],
   "source": [
    "df['Income'] = df['Income'].fillna(df['Income'].median())\n",
    "df['Income'].isnull().sum()"
   ]
  },
  {
   "cell_type": "markdown",
   "id": "ef12fc35",
   "metadata": {},
   "source": [
    "___\n",
    "- __B. Drop the `Dt_Customer` column.__"
   ]
  },
  {
   "cell_type": "code",
   "execution_count": 33,
   "id": "c1793121",
   "metadata": {},
   "outputs": [
    {
     "data": {
      "text/plain": [
       "(2240, 29)"
      ]
     },
     "execution_count": 33,
     "metadata": {},
     "output_type": "execute_result"
    }
   ],
   "source": [
    "df.shape"
   ]
  },
  {
   "cell_type": "code",
   "execution_count": 34,
   "id": "ffe0dfa0",
   "metadata": {},
   "outputs": [],
   "source": [
    "df.drop(columns = 'Dt_Customer', inplace=True)"
   ]
  },
  {
   "cell_type": "markdown",
   "id": "460f2a3f",
   "metadata": {},
   "source": [
    "- Dropping Id column aswell. "
   ]
  },
  {
   "cell_type": "code",
   "execution_count": 35,
   "id": "1e7ff97a",
   "metadata": {},
   "outputs": [],
   "source": [
    "df.drop(columns = 'ID', inplace=True)"
   ]
  },
  {
   "cell_type": "code",
   "execution_count": 36,
   "id": "d4dc0c42",
   "metadata": {},
   "outputs": [
    {
     "data": {
      "text/plain": [
       "(2240, 27)"
      ]
     },
     "execution_count": 36,
     "metadata": {},
     "output_type": "execute_result"
    }
   ],
   "source": [
    "df.shape"
   ]
  },
  {
   "cell_type": "markdown",
   "id": "f76d5948",
   "metadata": {},
   "source": [
    "- Encoding using `get_dummies`"
   ]
  },
  {
   "cell_type": "code",
   "execution_count": 37,
   "id": "2905ec84",
   "metadata": {},
   "outputs": [
    {
     "data": {
      "text/html": [
       "<div>\n",
       "<style scoped>\n",
       "    .dataframe tbody tr th:only-of-type {\n",
       "        vertical-align: middle;\n",
       "    }\n",
       "\n",
       "    .dataframe tbody tr th {\n",
       "        vertical-align: top;\n",
       "    }\n",
       "\n",
       "    .dataframe thead th {\n",
       "        text-align: right;\n",
       "    }\n",
       "</style>\n",
       "<table border=\"1\" class=\"dataframe\">\n",
       "  <thead>\n",
       "    <tr style=\"text-align: right;\">\n",
       "      <th></th>\n",
       "      <th>Year_Birth</th>\n",
       "      <th>Income</th>\n",
       "      <th>Kidhome</th>\n",
       "      <th>Teenhome</th>\n",
       "      <th>Recency</th>\n",
       "      <th>MntWines</th>\n",
       "      <th>MntFruits</th>\n",
       "      <th>MntMeatProducts</th>\n",
       "      <th>MntFishProducts</th>\n",
       "      <th>MntSweetProducts</th>\n",
       "      <th>...</th>\n",
       "      <th>Education_Graduation</th>\n",
       "      <th>Education_Master</th>\n",
       "      <th>Education_PhD</th>\n",
       "      <th>Marital_Status_Alone</th>\n",
       "      <th>Marital_Status_Divorced</th>\n",
       "      <th>Marital_Status_Married</th>\n",
       "      <th>Marital_Status_Single</th>\n",
       "      <th>Marital_Status_Together</th>\n",
       "      <th>Marital_Status_Widow</th>\n",
       "      <th>Marital_Status_YOLO</th>\n",
       "    </tr>\n",
       "  </thead>\n",
       "  <tbody>\n",
       "    <tr>\n",
       "      <th>0</th>\n",
       "      <td>1957</td>\n",
       "      <td>58138.0</td>\n",
       "      <td>0</td>\n",
       "      <td>0</td>\n",
       "      <td>58</td>\n",
       "      <td>635</td>\n",
       "      <td>88</td>\n",
       "      <td>546</td>\n",
       "      <td>172</td>\n",
       "      <td>88</td>\n",
       "      <td>...</td>\n",
       "      <td>True</td>\n",
       "      <td>False</td>\n",
       "      <td>False</td>\n",
       "      <td>False</td>\n",
       "      <td>False</td>\n",
       "      <td>False</td>\n",
       "      <td>True</td>\n",
       "      <td>False</td>\n",
       "      <td>False</td>\n",
       "      <td>False</td>\n",
       "    </tr>\n",
       "    <tr>\n",
       "      <th>1</th>\n",
       "      <td>1954</td>\n",
       "      <td>46344.0</td>\n",
       "      <td>1</td>\n",
       "      <td>1</td>\n",
       "      <td>38</td>\n",
       "      <td>11</td>\n",
       "      <td>1</td>\n",
       "      <td>6</td>\n",
       "      <td>2</td>\n",
       "      <td>1</td>\n",
       "      <td>...</td>\n",
       "      <td>True</td>\n",
       "      <td>False</td>\n",
       "      <td>False</td>\n",
       "      <td>False</td>\n",
       "      <td>False</td>\n",
       "      <td>False</td>\n",
       "      <td>True</td>\n",
       "      <td>False</td>\n",
       "      <td>False</td>\n",
       "      <td>False</td>\n",
       "    </tr>\n",
       "    <tr>\n",
       "      <th>2</th>\n",
       "      <td>1965</td>\n",
       "      <td>71613.0</td>\n",
       "      <td>0</td>\n",
       "      <td>0</td>\n",
       "      <td>26</td>\n",
       "      <td>426</td>\n",
       "      <td>49</td>\n",
       "      <td>127</td>\n",
       "      <td>111</td>\n",
       "      <td>21</td>\n",
       "      <td>...</td>\n",
       "      <td>True</td>\n",
       "      <td>False</td>\n",
       "      <td>False</td>\n",
       "      <td>False</td>\n",
       "      <td>False</td>\n",
       "      <td>False</td>\n",
       "      <td>False</td>\n",
       "      <td>True</td>\n",
       "      <td>False</td>\n",
       "      <td>False</td>\n",
       "    </tr>\n",
       "  </tbody>\n",
       "</table>\n",
       "<p>3 rows × 36 columns</p>\n",
       "</div>"
      ],
      "text/plain": [
       "   Year_Birth   Income  Kidhome  Teenhome  Recency  MntWines  MntFruits  \\\n",
       "0        1957  58138.0        0         0       58       635         88   \n",
       "1        1954  46344.0        1         1       38        11          1   \n",
       "2        1965  71613.0        0         0       26       426         49   \n",
       "\n",
       "   MntMeatProducts  MntFishProducts  MntSweetProducts  ...  \\\n",
       "0              546              172                88  ...   \n",
       "1                6                2                 1  ...   \n",
       "2              127              111                21  ...   \n",
       "\n",
       "   Education_Graduation  Education_Master  Education_PhD  \\\n",
       "0                  True             False          False   \n",
       "1                  True             False          False   \n",
       "2                  True             False          False   \n",
       "\n",
       "   Marital_Status_Alone  Marital_Status_Divorced  Marital_Status_Married  \\\n",
       "0                 False                    False                   False   \n",
       "1                 False                    False                   False   \n",
       "2                 False                    False                   False   \n",
       "\n",
       "   Marital_Status_Single  Marital_Status_Together  Marital_Status_Widow  \\\n",
       "0                   True                    False                 False   \n",
       "1                   True                    False                 False   \n",
       "2                  False                     True                 False   \n",
       "\n",
       "   Marital_Status_YOLO  \n",
       "0                False  \n",
       "1                False  \n",
       "2                False  \n",
       "\n",
       "[3 rows x 36 columns]"
      ]
     },
     "execution_count": 37,
     "metadata": {},
     "output_type": "execute_result"
    }
   ],
   "source": [
    "df_encoded = pd.get_dummies(df, columns=['Education', 'Marital_Status'], drop_first=True)\n",
    "df_encoded.head(3)"
   ]
  },
  {
   "cell_type": "code",
   "execution_count": 38,
   "id": "6a32d519",
   "metadata": {},
   "outputs": [
    {
     "data": {
      "text/plain": [
       "(2240, 36)"
      ]
     },
     "execution_count": 38,
     "metadata": {},
     "output_type": "execute_result"
    }
   ],
   "source": [
    "df_encoded.shape"
   ]
  },
  {
   "cell_type": "markdown",
   "id": "10272a52",
   "metadata": {},
   "source": [
    "- Scaling\n"
   ]
  },
  {
   "cell_type": "code",
   "execution_count": 39,
   "id": "36da8057",
   "metadata": {},
   "outputs": [],
   "source": [
    "from sklearn.preprocessing import StandardScaler\n",
    "\n",
    "scaler = StandardScaler()\n",
    "df_scaled = scaler.fit_transform(df_encoded)"
   ]
  },
  {
   "cell_type": "markdown",
   "id": "a894fdf5",
   "metadata": {},
   "source": [
    "___\n",
    "### 2.  Apply the following clustering techniques:\n",
    "    - KMeans (Elbow method)\n",
    "    - KMedoids (Elbow Method)\n",
    "    - DBSCAN \n",
    "\n",
    "- __A. KMeans (Elbow method)__"
   ]
  },
  {
   "cell_type": "code",
   "execution_count": 40,
   "id": "c8612e43",
   "metadata": {},
   "outputs": [],
   "source": [
    "from sklearn.cluster import KMeans\n",
    "import matplotlib.pyplot as plt"
   ]
  },
  {
   "cell_type": "code",
   "execution_count": 41,
   "id": "a9890e56",
   "metadata": {},
   "outputs": [],
   "source": [
    "# BECAUSE I'M GETTING AND USERWARNING THAT IS BOTERING ME.\n",
    "import warnings\n",
    "warnings.filterwarnings('ignore')"
   ]
  },
  {
   "cell_type": "markdown",
   "id": "ad7f215c",
   "metadata": {},
   "source": [
    "- WCSS (within-cluster sum of squares)"
   ]
  },
  {
   "cell_type": "code",
   "execution_count": 42,
   "id": "3ecadd02",
   "metadata": {},
   "outputs": [],
   "source": [
    "wcss = []\n",
    "K = range(1,29)\n",
    "for k in K:\n",
    "    kmeans = KMeans(n_clusters=k, init='k-means++', random_state=8)\n",
    "    kmeans.fit(df_scaled)\n",
    "    wcss.append(kmeans.inertia_)"
   ]
  },
  {
   "cell_type": "markdown",
   "id": "490bfd0a",
   "metadata": {},
   "source": [
    "- Elbow Plot"
   ]
  },
  {
   "cell_type": "code",
   "execution_count": 43,
   "id": "97edf0d5",
   "metadata": {},
   "outputs": [
    {
     "data": {
      "image/png": "[encoded data removed]",
      "text/plain": [
       "<Figure size 640x480 with 1 Axes>"
      ]
     },
     "metadata": {},
     "output_type": "display_data"
    }
   ],
   "source": [
    "plt.style.use('dark_background')\n",
    "plt.plot(K, wcss, marker='o', mfc = '#f72585', mec = '#7209b7', color='#4cc9f0')\n",
    "plt.grid (True, linewidth=0.2)\n",
    "plt.xlabel('Number of clusters k')\n",
    "plt.ylabel('WCSS (inertia)')\n",
    "plt.title('Elbow  Method For Optimal k')\n",
    "plt.show()"
   ]
  },
  {
   "cell_type": "markdown",
   "id": "006f7995",
   "metadata": {},
   "source": [
    "- Automatic elbow locator usinng kneed library\n",
    "\n",
    "__How it works:__ The KneeLocator normalizes and smooths the curve, then finds where the slope changes most sharply, the “knee” or “elbow” point. It does this by detecting the maximum curvature in the data, controlled by a sensitivity parameter. The result (kl.knee or kl.elbow) gives the optimal point on the x-axis. "
   ]
  },
  {
   "cell_type": "code",
   "execution_count": 44,
   "id": "5cf6ce67",
   "metadata": {},
   "outputs": [
    {
     "name": "stdout",
     "output_type": "stream",
     "text": [
      "ELBOW IDENTIFIED IN K -->  15\n"
     ]
    }
   ],
   "source": [
    "from kneed import KneeLocator\n",
    "\n",
    "kl = KneeLocator(K, wcss, curve='convex', direction='decreasing')\n",
    "print(\"ELBOW IDENTIFIED IN K --> \", kl.elbow)"
   ]
  },
  {
   "cell_type": "markdown",
   "id": "405c149e",
   "metadata": {},
   "source": [
    "___\n",
    "- __B. KMedoids (Elbow Method)__"
   ]
  },
  {
   "cell_type": "code",
   "execution_count": 45,
   "id": "2548b9b7",
   "metadata": {},
   "outputs": [],
   "source": [
    "from sklearn_extra.cluster import KMedoids"
   ]
  },
  {
   "cell_type": "markdown",
   "id": "38754e63",
   "metadata": {},
   "source": [
    "- Total cost or Sum of dissimilarities"
   ]
  },
  {
   "cell_type": "code",
   "execution_count": 46,
   "id": "001bfbe5",
   "metadata": {},
   "outputs": [],
   "source": [
    "total_cost = []\n",
    "K = range(1, 29)\n",
    "\n",
    "for k in K:\n",
    "    kmedoids = KMedoids(n_clusters=k, init='k-medoids++', random_state=8, metric='euclidean')\n",
    "    kmedoids.fit(df_scaled)\n",
    "    total_cost.append(kmedoids.inertia_)"
   ]
  },
  {
   "cell_type": "markdown",
   "id": "f35f0c8e",
   "metadata": {},
   "source": [
    "- Elbow Plot"
   ]
  },
  {
   "cell_type": "code",
   "execution_count": 51,
   "id": "89061f41",
   "metadata": {},
   "outputs": [
    {
     "data": {
      "image/png": "[encoded data removed]",
      "text/plain": [
       "<Figure size 640x480 with 1 Axes>"
      ]
     },
     "metadata": {},
     "output_type": "display_data"
    }
   ],
   "source": [
    "plt.style.use('dark_background')\n",
    "plt.plot(K, total_cost, marker='o', mfc = \"#00d9ff\", mec = \"#1106b1\", color=\"#00ff00\")\n",
    "plt.grid (True, linewidth=0.2)\n",
    "plt.xlabel('Number of clusters k')\n",
    "plt.ylabel('Total Cost (Sum of dissimilarities)')\n",
    "plt.title('Elbow  Method with K-Medoids')\n",
    "plt.show()"
   ]
  },
  {
   "cell_type": "code",
   "execution_count": 48,
   "id": "46982f5e",
   "metadata": {},
   "outputs": [
    {
     "name": "stdout",
     "output_type": "stream",
     "text": [
      "ELBOW IDENTIFIED IN K -->  7\n"
     ]
    }
   ],
   "source": [
    "kl = KneeLocator(K, total_cost, curve='convex', direction='decreasing')\n",
    "print(\"ELBOW IDENTIFIED IN K --> \", kl.elbow)"
   ]
  },
  {
   "cell_type": "markdown",
   "id": "4c595586",
   "metadata": {},
   "source": [
    "___\n",
    "- __DBSCAN__"
   ]
  },
  {
   "cell_type": "code",
   "execution_count": 52,
   "id": "d296a78c",
   "metadata": {},
   "outputs": [],
   "source": [
    "from sklearn.cluster import DBSCAN\n",
    "from sklearn.metrics import silhouette_score"
   ]
  }
 ],
 "metadata": {
  "kernelspec": {
   "display_name": "default_exercise",
   "language": "python",
   "name": "python3"
  },
  "language_info": {
   "codemirror_mode": {
    "name": "ipython",
    "version": 3
   },
   "file_extension": ".py",
   "mimetype": "text/x-python",
   "name": "python",
   "nbconvert_exporter": "python",
   "pygments_lexer": "ipython3",
   "version": "3.11.13"
  }
 },
 "nbformat": 4,
 "nbformat_minor": 5
}
