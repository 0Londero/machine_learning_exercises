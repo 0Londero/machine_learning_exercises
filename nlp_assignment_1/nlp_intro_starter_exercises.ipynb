{
 "cells": [
  {
   "cell_type": "markdown",
   "id": "661ff550",
   "metadata": {},
   "source": [
    "\n",
    "# 🎯 NLP Starter — Simple, Hands‑On Exercises (Beginner Friendly)\n",
    "\n",
    "This notebook mirrors the style of \"NLP for Beginners\" and is designed for **first‑time learners**.\n",
    "You'll do small, focused tasks and see immediate results, using only **core Python + scikit‑learn** (no heavy downloads).\n",
    "\n",
    "**What you'll practice**\n",
    "1. Inspect a tiny text dataset (built‑in, no downloads).\n",
    "2. Clean text (lowercase, punctuation removal).\n",
    "3. Bag‑of‑Words with `CountVectorizer`.\n",
    "4. Visualize top words.\n",
    "5. Train a simple classifier (Naive Bayes).\n",
    "6. Switch to TF‑IDF and compare.\n",
    "7. Try bigrams (optional).\n",
    "8. See some misclassifications (optional).\n",
    "\n",
    "> ✅ Tip: Each exercise has a **TODO** cell. Implement a few lines and run the check right after.\n"
   ]
  },
  {
   "cell_type": "code",
   "execution_count": 1,
   "id": "0425532f",
   "metadata": {},
   "outputs": [],
   "source": [
    "\n",
    "import re\n",
    "import string\n",
    "import numpy as np\n",
    "import pandas as pd\n",
    "import matplotlib.pyplot as plt\n",
    "\n",
    "from sklearn.model_selection import train_test_split\n",
    "from sklearn.feature_extraction.text import CountVectorizer, TfidfVectorizer\n",
    "from sklearn.naive_bayes import MultinomialNB\n",
    "from sklearn.linear_model import LogisticRegression\n",
    "from sklearn.metrics import accuracy_score, classification_report, confusion_matrix, ConfusionMatrixDisplay\n",
    "\n",
    "RANDOM_SEED = 42\n",
    "np.random.seed(RANDOM_SEED)\n"
   ]
  },
  {
   "cell_type": "markdown",
   "id": "bb3f10b5",
   "metadata": {},
   "source": [
    "\n",
    "## 0) Tiny Sentiment Dataset (ready to use)\n",
    "\n",
    "We use a **small in‑memory dataset** (no internet or downloads required). Labels: `1 = positive`, `0 = negative`.\n"
   ]
  },
  {
   "cell_type": "code",
   "execution_count": 2,
   "id": "21956140",
   "metadata": {},
   "outputs": [
    {
     "data": {
      "text/html": [
       "<div>\n",
       "<style scoped>\n",
       "    .dataframe tbody tr th:only-of-type {\n",
       "        vertical-align: middle;\n",
       "    }\n",
       "\n",
       "    .dataframe tbody tr th {\n",
       "        vertical-align: top;\n",
       "    }\n",
       "\n",
       "    .dataframe thead th {\n",
       "        text-align: right;\n",
       "    }\n",
       "</style>\n",
       "<table border=\"1\" class=\"dataframe\">\n",
       "  <thead>\n",
       "    <tr style=\"text-align: right;\">\n",
       "      <th></th>\n",
       "      <th>text</th>\n",
       "      <th>label</th>\n",
       "    </tr>\n",
       "  </thead>\n",
       "  <tbody>\n",
       "    <tr>\n",
       "      <th>0</th>\n",
       "      <td>I loved this movie, it was fantastic and thril...</td>\n",
       "      <td>1</td>\n",
       "    </tr>\n",
       "    <tr>\n",
       "      <th>1</th>\n",
       "      <td>What a terrible film. I regret watching it.</td>\n",
       "      <td>0</td>\n",
       "    </tr>\n",
       "    <tr>\n",
       "      <th>2</th>\n",
       "      <td>Absolutely brilliant acting and a great story.</td>\n",
       "      <td>1</td>\n",
       "    </tr>\n",
       "    <tr>\n",
       "      <th>3</th>\n",
       "      <td>I was bored the whole time. Not recommended.</td>\n",
       "      <td>0</td>\n",
       "    </tr>\n",
       "    <tr>\n",
       "      <th>4</th>\n",
       "      <td>An excellent, heartwarming experience.</td>\n",
       "      <td>1</td>\n",
       "    </tr>\n",
       "  </tbody>\n",
       "</table>\n",
       "</div>"
      ],
      "text/plain": [
       "                                                text  label\n",
       "0  I loved this movie, it was fantastic and thril...      1\n",
       "1        What a terrible film. I regret watching it.      0\n",
       "2     Absolutely brilliant acting and a great story.      1\n",
       "3       I was bored the whole time. Not recommended.      0\n",
       "4             An excellent, heartwarming experience.      1"
      ]
     },
     "execution_count": 2,
     "metadata": {},
     "output_type": "execute_result"
    }
   ],
   "source": [
    "\n",
    "texts = [\n",
    "    \"I loved this movie, it was fantastic and thrilling!\",\n",
    "    \"What a terrible film. I regret watching it.\",\n",
    "    \"Absolutely brilliant acting and a great story.\",\n",
    "    \"I was bored the whole time. Not recommended.\",\n",
    "    \"An excellent, heartwarming experience.\",\n",
    "    \"The plot was weak and the characters were flat.\",\n",
    "    \"A delightful surprise — funny and uplifting.\",\n",
    "    \"It was a waste of time. Poorly made.\",\n",
    "    \"Incredible soundtrack and strong performances.\",\n",
    "    \"The pacing was awful. I almost fell asleep.\",\n",
    "    \"A must-watch. I smiled from start to finish.\",\n",
    "    \"Terrible writing and bad editing.\",\n",
    "    \"Beautiful cinematography and touching moments.\",\n",
    "    \"I didn't like it at all. Really disappointing.\",\n",
    "    \"A charming film with memorable scenes.\",\n",
    "    \"The jokes were bad and the acting was worse.\"\n",
    "]\n",
    "\n",
    "labels = [1,0,1,0,1,0,1,0,1,0,1,0,1,0,1,0]\n",
    "\n",
    "df = pd.DataFrame({\"text\": texts, \"label\": labels})\n",
    "df.head()\n"
   ]
  },
  {
   "cell_type": "markdown",
   "id": "b736459a",
   "metadata": {},
   "source": [
    "\n",
    "## 1) Exercise — Clean the text (lowercase + remove punctuation)\n",
    "\n",
    "**Task:** Implement `clean_text(s)` that\n",
    "- lowercases the string\n",
    "- removes punctuation characters\n",
    "- collapses multiple spaces to one\n",
    "\n",
    "**Hint:** Use `str.translate` with `str.maketrans` to drop punctuation.\n"
   ]
  },
  {
   "cell_type": "code",
   "execution_count": 7,
   "id": "338c7fe0",
   "metadata": {},
   "outputs": [
    {
     "data": {
      "text/html": [
       "<div>\n",
       "<style scoped>\n",
       "    .dataframe tbody tr th:only-of-type {\n",
       "        vertical-align: middle;\n",
       "    }\n",
       "\n",
       "    .dataframe tbody tr th {\n",
       "        vertical-align: top;\n",
       "    }\n",
       "\n",
       "    .dataframe thead th {\n",
       "        text-align: right;\n",
       "    }\n",
       "</style>\n",
       "<table border=\"1\" class=\"dataframe\">\n",
       "  <thead>\n",
       "    <tr style=\"text-align: right;\">\n",
       "      <th></th>\n",
       "      <th>text</th>\n",
       "      <th>label</th>\n",
       "      <th>clean</th>\n",
       "    </tr>\n",
       "  </thead>\n",
       "  <tbody>\n",
       "    <tr>\n",
       "      <th>0</th>\n",
       "      <td>I loved this movie, it was fantastic and thril...</td>\n",
       "      <td>1</td>\n",
       "      <td>i loved this movie it was fantastic and thrilling</td>\n",
       "    </tr>\n",
       "    <tr>\n",
       "      <th>1</th>\n",
       "      <td>What a terrible film. I regret watching it.</td>\n",
       "      <td>0</td>\n",
       "      <td>what a terrible film i regret watching it</td>\n",
       "    </tr>\n",
       "    <tr>\n",
       "      <th>2</th>\n",
       "      <td>Absolutely brilliant acting and a great story.</td>\n",
       "      <td>1</td>\n",
       "      <td>absolutely brilliant acting and a great story</td>\n",
       "    </tr>\n",
       "    <tr>\n",
       "      <th>3</th>\n",
       "      <td>I was bored the whole time. Not recommended.</td>\n",
       "      <td>0</td>\n",
       "      <td>i was bored the whole time not recommended</td>\n",
       "    </tr>\n",
       "    <tr>\n",
       "      <th>4</th>\n",
       "      <td>An excellent, heartwarming experience.</td>\n",
       "      <td>1</td>\n",
       "      <td>an excellent heartwarming experience</td>\n",
       "    </tr>\n",
       "  </tbody>\n",
       "</table>\n",
       "</div>"
      ],
      "text/plain": [
       "                                                text  label  \\\n",
       "0  I loved this movie, it was fantastic and thril...      1   \n",
       "1        What a terrible film. I regret watching it.      0   \n",
       "2     Absolutely brilliant acting and a great story.      1   \n",
       "3       I was bored the whole time. Not recommended.      0   \n",
       "4             An excellent, heartwarming experience.      1   \n",
       "\n",
       "                                               clean  \n",
       "0  i loved this movie it was fantastic and thrilling  \n",
       "1          what a terrible film i regret watching it  \n",
       "2      absolutely brilliant acting and a great story  \n",
       "3         i was bored the whole time not recommended  \n",
       "4               an excellent heartwarming experience  "
      ]
     },
     "execution_count": 7,
     "metadata": {},
     "output_type": "execute_result"
    }
   ],
   "source": [
    "\n",
    "def clean_text(s: str) -> str:\n",
    "    # TODO: 1) lowercase  2) remove punctuation  3) normalize whitespace\n",
    "    # steps (replace 'pass' with your code):\n",
    "    text = s.lower()\n",
    "    table = str.maketrans(\"\", \"\", string.punctuation)\n",
    "    text = text.translate(table)\n",
    "    text = re.sub(r\"\\s+\", \" \", text).strip()\n",
    "    return text\n",
    "    pass\n",
    "\n",
    "# 👉 Run this after you implement clean_text\n",
    "df['clean'] = df['text'].apply(clean_text)\n",
    "df.head()\n"
   ]
  },
  {
   "cell_type": "markdown",
   "id": "181239f7",
   "metadata": {},
   "source": [
    "\n",
    "## 2) Exercise — Build Bag‑of‑Words features with `CountVectorizer`\n",
    "\n",
    "**Task:** Vectorize `df['clean']` using `CountVectorizer` with:\n",
    "- `stop_words='english'`\n",
    "- `min_df=1` (keep everything in this tiny dataset)\n",
    "\n",
    "**Deliverables:** variables `cv`, `X_bow`.\n"
   ]
  },
  {
   "cell_type": "code",
   "execution_count": 8,
   "id": "0e131762",
   "metadata": {},
   "outputs": [
    {
     "data": {
      "text/plain": [
       "(16, 57)"
      ]
     },
     "execution_count": 8,
     "metadata": {},
     "output_type": "execute_result"
    }
   ],
   "source": [
    "\n",
    "# TODO:\n",
    "cv = CountVectorizer(stop_words='english', min_df=1)\n",
    "X_bow = cv.fit_transform(df['clean'])\n",
    "X_bow.shape\n"
   ]
  },
  {
   "cell_type": "markdown",
   "id": "4a541549",
   "metadata": {},
   "source": [
    "\n",
    "## 3) Exercise — Plot the top 10 words by frequency\n",
    "\n",
    "**Task:** Sum term counts across all documents and plot the top 10.\n",
    "- Use `np.asarray(X_bow.sum(axis=0)).ravel()` to get totals per column.\n",
    "- Get feature names with `cv.get_feature_names_out()`.\n",
    "- Use `matplotlib` (one bar chart, no custom colors).\n"
   ]
  },
  {
   "cell_type": "code",
   "execution_count": 9,
   "id": "78ea5c18",
   "metadata": {},
   "outputs": [
    {
     "data": {
      "image/png": "[encoded data removed]",
      "text/plain": [
       "<Figure size 640x480 with 1 Axes>"
      ]
     },
     "metadata": {},
     "output_type": "display_data"
    }
   ],
   "source": [
    "\n",
    "# TODO:\n",
    "totals = np.asarray(X_bow.sum(axis=0)).ravel()\n",
    "vocab = cv.get_feature_names_out()\n",
    "top_idx = np.argsort(totals)[-10:][::-1]\n",
    "plt.figure()\n",
    "plt.bar(range(10), totals[top_idx])\n",
    "plt.xticks(range(10), vocab[top_idx], rotation=45, ha='right')\n",
    "plt.title(\"Top 10 words (CountVectorizer)\")\n",
    "plt.tight_layout()\n",
    "plt.show()\n"
   ]
  },
  {
   "cell_type": "markdown",
   "id": "022c3d19",
   "metadata": {},
   "source": [
    "\n",
    "## 4) Exercise — Train/test split + Naive Bayes\n",
    "\n",
    "**Task:** Split into train/test (`test_size=0.25`, `random_state=RANDOM_SEED`), then train **MultinomialNB** on **Bag‑of‑Words** and report **accuracy**.\n"
   ]
  },
  {
   "cell_type": "code",
   "execution_count": 10,
   "id": "948b73ec",
   "metadata": {},
   "outputs": [
    {
     "name": "stdout",
     "output_type": "stream",
     "text": [
      "Accuracy (NB + BoW): 0.5\n"
     ]
    }
   ],
   "source": [
    "\n",
    "# TODO:\n",
    "X_train, X_test, y_train, y_test = train_test_split(X_bow, df['label'], test_size=0.25, random_state=RANDOM_SEED, stratify=df['label'])\n",
    "nb = MultinomialNB()\n",
    "nb.fit(X_train, y_train)\n",
    "y_pred = nb.predict(X_test)\n",
    "print(\"Accuracy (NB + BoW):\", accuracy_score(y_test, y_pred))\n"
   ]
  },
  {
   "cell_type": "markdown",
   "id": "f6545bf0",
   "metadata": {},
   "source": [
    "\n",
    "## 5) Exercise — TF‑IDF features + Naive Bayes\n",
    "\n",
    "**Task:** Create `TfidfVectorizer(stop_words='english', min_df=1)` on `df['clean']`, train **MultinomialNB**, and compare accuracy to BoW.\n"
   ]
  },
  {
   "cell_type": "code",
   "execution_count": null,
   "id": "78bda8d4",
   "metadata": {},
   "outputs": [],
   "source": [
    "\n",
    "# TODO:\n",
    "tfidf = TfidfVectorizer(stop_words='english', min_df=1)\n",
    "X_tfidf = tfidf.fit_transform(df['clean'])\n",
    "X_train, X_test, y_train, y_test = train_test_split(X_tfidf, df['label'], test_size=0.25, random_state=RANDOM_SEED, stratify=df['label'])\n",
    "nb2 = MultinomialNB()\n",
    "nb2.fit(X_train, y_train)\n",
    "y_pred2 = nb2.predict(X_test)\n",
    "print(\"Accuracy (NB + TF-IDF):\", accuracy_score(y_test, y_pred2))\n"
   ]
  },
  {
   "cell_type": "markdown",
   "id": "b04b92b5",
   "metadata": {},
   "source": [
    "\n",
    "## 6) (Optional) Exercise — Add bigrams and compare\n",
    "\n",
    "**Task:** Use `TfidfVectorizer(ngram_range=(1,2), stop_words='english')` and compare accuracy.\n"
   ]
  },
  {
   "cell_type": "code",
   "execution_count": null,
   "id": "35a1fc03",
   "metadata": {},
   "outputs": [],
   "source": [
    "\n",
    "# TODO:\n",
    "# tfidf_bigram = TfidfVectorizer(ngram_range=(1,2), stop_words='english', min_df=1)\n",
    "# X_tfidf_bg = tfidf_bigram.fit_transform(df['clean'])\n",
    "# X_train, X_test, y_train, y_test = train_test_split(X_tfidf_bg, df['label'], test_size=0.25, random_state=RANDOM_SEED, stratify=df['label'])\n",
    "# nb_bg = MultinomialNB()\n",
    "# nb_bg.fit(X_train, y_train)\n",
    "# y_pred_bg = nb_bg.predict(X_test)\n",
    "# print(\"Accuracy (NB + TF-IDF bigrams):\", accuracy_score(y_test, y_pred_bg))\n"
   ]
  },
  {
   "cell_type": "markdown",
   "id": "d9b2327d",
   "metadata": {},
   "source": [
    "\n",
    "## 7) (Optional) Exercise — Try Logistic Regression\n",
    "\n",
    "**Task:** Using your best features (TF‑IDF or TF‑IDF bigrams), train `LogisticRegression(max_iter=1000)` and compare accuracy.\n"
   ]
  },
  {
   "cell_type": "code",
   "execution_count": null,
   "id": "c4d5875a",
   "metadata": {},
   "outputs": [],
   "source": [
    "\n",
    "# TODO:\n",
    "# logreg = LogisticRegression(max_iter=1000)\n",
    "# logreg.fit(X_train, y_train)\n",
    "# y_pred_lr = logreg.predict(X_test)\n",
    "# print(\"Accuracy (LogReg):\", accuracy_score(y_test, y_pred_lr))\n"
   ]
  },
  {
   "cell_type": "markdown",
   "id": "cffa29ca",
   "metadata": {},
   "source": [
    "\n",
    "## 8) (Optional) Exercise — Inspect a few mistakes\n",
    "\n",
    "**Task:** Print 5 examples where `y_pred != y_test` to understand what confused the model.\n"
   ]
  },
  {
   "cell_type": "code",
   "execution_count": null,
   "id": "08411366",
   "metadata": {},
   "outputs": [],
   "source": [
    "\n",
    "# TODO (requires you to keep X_test/y_test/y_pred from a previous run):\n",
    "# test_idx = y_test.index.to_list()\n",
    "# mis_idx = [i for i, yp, yt in zip(test_idx, y_pred, y_test) if yp != yt]\n",
    "# for i in mis_idx[:5]:\n",
    "#     print(f\"[label={y_test.loc[i]}] {df.loc[i, 'text']}\")\n"
   ]
  }
 ],
 "metadata": {
  "kernelspec": {
   "display_name": "default_exercise",
   "language": "python",
   "name": "python3"
  },
  "language_info": {
   "codemirror_mode": {
    "name": "ipython",
    "version": 3
   },
   "file_extension": ".py",
   "mimetype": "text/x-python",
   "name": "python",
   "nbconvert_exporter": "python",
   "pygments_lexer": "ipython3",
   "version": "3.11.13"
  }
 },
 "nbformat": 4,
 "nbformat_minor": 5
}
