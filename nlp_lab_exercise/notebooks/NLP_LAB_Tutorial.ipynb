{
 "cells": [
  {
   "cell_type": "markdown",
   "metadata": {},
   "source": [
    "#  NLP Lab Tutorial"
   ]
  },
  {
   "cell_type": "code",
   "metadata": {
    "ExecuteTime": {
     "end_time": "2025-06-26T01:21:28.416686Z",
     "start_time": "2025-06-26T01:21:27.824088Z"
    }
   },
   "source": [
    "import spacy \n",
    "nlp = spacy.load(\"en_core_web_sm\") # load the small English model"
   ],
   "outputs": [],
   "execution_count": 6
  },
  {
   "cell_type": "markdown",
   "metadata": {},
   "source": [
    "* When you process a text with the nlp object, spaCy creates a Doc object – short for \"document\". The Doc lets you access information about the text in a structured way, and no information is lost.\n",
    "\n",
    "* The Doc behaves like a normal Python sequence by the way and lets you iterate over its tokens, or get a token by its index"
   ]
  },
  {
   "cell_type": "code",
   "execution_count": 4,
   "metadata": {},
   "outputs": [
    {
     "name": "stdout",
     "output_type": "stream",
     "text": [
      "Hello -> INTJ (ROOT)\n",
      "World -> PROPN (npadvmod)\n",
      "! -> PUNCT (punct)\n"
     ]
    },
    {
     "data": {
      "text/plain": [
       "'World'"
      ]
     },
     "execution_count": 4,
     "metadata": {},
     "output_type": "execute_result"
    }
   ],
   "source": [
    "doc = nlp(\"Hello World!\")\n",
    "for token in doc:\n",
    "    print(f\"{token.text} -> {token.pos_} ({token.dep_})\")\n",
    "\n",
    "token = doc[1]\n",
    "token.tensor # this tensor vector represents the token in the model's vocabulary and the values are the word embeddings.\n",
    "token.text\n"
   ]
  },
  {
   "cell_type": "code",
   "execution_count": 5,
   "metadata": {},
   "outputs": [
    {
     "name": "stdout",
     "output_type": "stream",
     "text": [
      "Index:    [0, 1, 2]\n",
      "Text:     ['Hello', 'World', '!']\n",
      "is_alpha: [True, True, False]\n",
      "is_punct: [False, False, True]\n",
      "like_num: [False, False, False]\n"
     ]
    }
   ],
   "source": [
    "print(\"Index:   \", [token.i for token in doc])\n",
    "print(\"Text:    \", [token.text for token in doc])\n",
    "\n",
    "print(\"is_alpha:\", [token.is_alpha for token in doc]) # .is_alpha checks if the token consists of alphabetic characters.\n",
    "print(\"is_punct:\", [token.is_punct for token in doc]) # .is_punct checks if the token is a punctuation mark.\n",
    "print(\"like_num:\", [token.like_num for token in doc]) # .like_num checks if the token looks like a number (e.g., \"3\", \"3.14\", \"three\")."
   ]
  },
  {
   "cell_type": "code",
   "metadata": {
    "ExecuteTime": {
     "end_time": "2025-06-26T01:21:02.239545Z",
     "start_time": "2025-06-26T01:20:50.051923Z"
    }
   },
   "source": [
    "# Import spaCy\n",
    "import spacy\n",
    "\n",
    "\n",
    "# Download\n",
    "!python -m spacy download en_core_web_sm\n",
    "\n",
    "\n",
    "# TODO: Create the English nlp object [X]\n",
    "nlp = spacy.load(\"en_core_web_sm\")\n",
    "\n",
    "\n",
    "# TODO: Process a text\n",
    "doc = nlp(\"This is part of the NLPLAB Tutorial\")\n",
    "\n",
    "# Print the document text\n",
    "print(doc.text)"
   ],
   "outputs": [
    {
     "name": "stdout",
     "output_type": "stream",
     "text": [
      "Collecting en-core-web-sm==3.8.0\n",
      "  Downloading https://github.com/explosion/spacy-models/releases/download/en_core_web_sm-3.8.0/en_core_web_sm-3.8.0-py3-none-any.whl (12.8 MB)\n",
      "     ---------------------------------------- 0.0/12.8 MB ? eta -:--:--\n",
      "     - -------------------------------------- 0.5/12.8 MB 2.4 MB/s eta 0:00:06\n",
      "     ---- ----------------------------------- 1.3/12.8 MB 3.5 MB/s eta 0:00:04\n",
      "     ------ --------------------------------- 2.1/12.8 MB 3.5 MB/s eta 0:00:04\n",
      "     --------- ------------------------------ 2.9/12.8 MB 3.4 MB/s eta 0:00:03\n",
      "     ---------- ----------------------------- 3.4/12.8 MB 3.4 MB/s eta 0:00:03\n",
      "     ------------- -------------------------- 4.2/12.8 MB 3.4 MB/s eta 0:00:03\n",
      "     --------------- ------------------------ 5.0/12.8 MB 3.4 MB/s eta 0:00:03\n",
      "     ----------------- ---------------------- 5.5/12.8 MB 3.4 MB/s eta 0:00:03\n",
      "     ------------------ --------------------- 6.0/12.8 MB 3.2 MB/s eta 0:00:03\n",
      "     --------------------- ------------------ 6.8/12.8 MB 3.2 MB/s eta 0:00:02\n",
      "     ---------------------- ----------------- 7.3/12.8 MB 3.2 MB/s eta 0:00:02\n",
      "     ------------------------ --------------- 7.9/12.8 MB 3.1 MB/s eta 0:00:02\n",
      "     ------------------------- -------------- 8.1/12.8 MB 3.0 MB/s eta 0:00:02\n",
      "     --------------------------- ------------ 8.9/12.8 MB 3.0 MB/s eta 0:00:02\n",
      "     ----------------------------- ---------- 9.4/12.8 MB 3.0 MB/s eta 0:00:02\n",
      "     ------------------------------- -------- 10.0/12.8 MB 2.9 MB/s eta 0:00:01\n",
      "     -------------------------------- ------- 10.5/12.8 MB 2.9 MB/s eta 0:00:01\n",
      "     ---------------------------------- ----- 11.0/12.8 MB 2.9 MB/s eta 0:00:01\n",
      "     ----------------------------------- ---- 11.3/12.8 MB 2.9 MB/s eta 0:00:01\n",
      "     ----------------------------------- ---- 11.3/12.8 MB 2.9 MB/s eta 0:00:01\n",
      "     ----------------------------------- ---- 11.3/12.8 MB 2.9 MB/s eta 0:00:01\n",
      "     ----------------------------------- ---- 11.3/12.8 MB 2.9 MB/s eta 0:00:01\n",
      "     ------------------------------------ --- 11.5/12.8 MB 2.4 MB/s eta 0:00:01\n",
      "     ------------------------------------ --- 11.5/12.8 MB 2.4 MB/s eta 0:00:01\n",
      "     ------------------------------------ --- 11.8/12.8 MB 2.3 MB/s eta 0:00:01\n",
      "     -------------------------------------- - 12.3/12.8 MB 2.2 MB/s eta 0:00:01\n",
      "     ---------------------------------------  12.6/12.8 MB 2.2 MB/s eta 0:00:01\n",
      "     ---------------------------------------- 12.8/12.8 MB 2.2 MB/s eta 0:00:00\n",
      "Installing collected packages: en-core-web-sm\n",
      "Successfully installed en-core-web-sm-3.8.0\n",
      "\u001B[38;5;2m✔ Download and installation successful\u001B[0m\n",
      "You can now load the package via spacy.load('en_core_web_sm')\n"
     ]
    },
    {
     "name": "stderr",
     "output_type": "stream",
     "text": [
      "\n",
      "[notice] A new release of pip is available: 25.0.1 -> 25.1.1\n",
      "[notice] To update, run: python.exe -m pip install --upgrade pip\n"
     ]
    },
    {
     "name": "stdout",
     "output_type": "stream",
     "text": [
      "This is part of the NLPLAB Tutorial\n"
     ]
    }
   ],
   "execution_count": 5
  },
  {
   "cell_type": "code",
   "metadata": {
    "ExecuteTime": {
     "end_time": "2025-06-26T01:20:21.679509Z",
     "start_time": "2025-06-26T01:20:11.878093Z"
    }
   },
   "source": [
    "!   python -m spacy download de_core_news_sm"
   ],
   "outputs": [
    {
     "name": "stdout",
     "output_type": "stream",
     "text": [
      "Collecting de-core-news-sm==3.8.0\n",
      "  Downloading https://github.com/explosion/spacy-models/releases/download/de_core_news_sm-3.8.0/de_core_news_sm-3.8.0-py3-none-any.whl (14.6 MB)\n",
      "     ---------------------------------------- 0.0/14.6 MB ? eta -:--:--\n",
      "     - -------------------------------------- 0.5/14.6 MB 2.8 MB/s eta 0:00:06\n",
      "     --- ------------------------------------ 1.3/14.6 MB 3.4 MB/s eta 0:00:04\n",
      "     ----- ---------------------------------- 2.1/14.6 MB 3.5 MB/s eta 0:00:04\n",
      "     ------- -------------------------------- 2.6/14.6 MB 3.2 MB/s eta 0:00:04\n",
      "     -------- ------------------------------- 3.1/14.6 MB 2.9 MB/s eta 0:00:04\n",
      "     ---------- ----------------------------- 3.7/14.6 MB 2.8 MB/s eta 0:00:04\n",
      "     ----------- ---------------------------- 4.2/14.6 MB 2.9 MB/s eta 0:00:04\n",
      "     ------------- -------------------------- 5.0/14.6 MB 2.9 MB/s eta 0:00:04\n",
      "     --------------- ------------------------ 5.8/14.6 MB 3.0 MB/s eta 0:00:03\n",
      "     ----------------- ---------------------- 6.3/14.6 MB 3.0 MB/s eta 0:00:03\n",
      "     ------------------- -------------------- 7.1/14.6 MB 3.1 MB/s eta 0:00:03\n",
      "     --------------------- ------------------ 7.9/14.6 MB 3.1 MB/s eta 0:00:03\n",
      "     ----------------------- ---------------- 8.7/14.6 MB 3.1 MB/s eta 0:00:02\n",
      "     ------------------------- -------------- 9.2/14.6 MB 3.1 MB/s eta 0:00:02\n",
      "     --------------------------- ------------ 10.0/14.6 MB 3.1 MB/s eta 0:00:02\n",
      "     ----------------------------- ---------- 10.7/14.6 MB 3.2 MB/s eta 0:00:02\n",
      "     ------------------------------ --------- 11.3/14.6 MB 3.2 MB/s eta 0:00:02\n",
      "     -------------------------------- ------- 12.1/14.6 MB 3.2 MB/s eta 0:00:01\n",
      "     ----------------------------------- ---- 12.8/14.6 MB 3.2 MB/s eta 0:00:01\n",
      "     ------------------------------------- -- 13.6/14.6 MB 3.2 MB/s eta 0:00:01\n",
      "     ---------------------------------------  14.4/14.6 MB 3.2 MB/s eta 0:00:01\n",
      "     ---------------------------------------- 14.6/14.6 MB 3.2 MB/s eta 0:00:00\n",
      "Installing collected packages: de-core-news-sm\n",
      "Successfully installed de-core-news-sm-3.8.0\n",
      "\u001B[38;5;2m✔ Download and installation successful\u001B[0m\n",
      "You can now load the package via spacy.load('de_core_news_sm')\n"
     ]
    },
    {
     "name": "stderr",
     "output_type": "stream",
     "text": [
      "\n",
      "[notice] A new release of pip is available: 25.0.1 -> 25.1.1\n",
      "[notice] To update, run: python.exe -m pip install --upgrade pip\n"
     ]
    }
   ],
   "execution_count": 3
  },
  {
   "cell_type": "code",
   "metadata": {
    "ExecuteTime": {
     "end_time": "2025-06-26T01:22:07.195635Z",
     "start_time": "2025-06-26T01:22:05.969625Z"
    }
   },
   "source": [
    "# Import spaCy\n",
    "import spacy\n",
    "\n",
    "# TODO: Create the German nlp object using \"de_core_news_sm\" [X]\n",
    "nlp = spacy.load(\"de_core_news_sm\")\n",
    "# Process a text (this is German for: \"Kind regards!\")\n",
    "doc = nlp(\"Liebe Grüße!\")\n",
    "\n",
    "# Print the document text\n",
    "print(doc.text)"
   ],
   "outputs": [
    {
     "name": "stdout",
     "output_type": "stream",
     "text": [
      "Liebe Grüße!\n"
     ]
    }
   ],
   "execution_count": 7
  },
  {
   "cell_type": "code",
   "metadata": {
    "ExecuteTime": {
     "end_time": "2025-06-26T01:22:59.263883Z",
     "start_time": "2025-06-26T01:22:50.211172Z"
    }
   },
   "source": [
    "!   python -m spacy download es_core_news_sm"
   ],
   "outputs": [
    {
     "name": "stdout",
     "output_type": "stream",
     "text": [
      "Collecting es-core-news-sm==3.8.0\n",
      "  Downloading https://github.com/explosion/spacy-models/releases/download/es_core_news_sm-3.8.0/es_core_news_sm-3.8.0-py3-none-any.whl (12.9 MB)\n",
      "     ---------------------------------------- 0.0/12.9 MB ? eta -:--:--\n",
      "     - -------------------------------------- 0.5/12.9 MB 2.4 MB/s eta 0:00:06\n",
      "     ---- ----------------------------------- 1.3/12.9 MB 3.5 MB/s eta 0:00:04\n",
      "     ------ --------------------------------- 2.1/12.9 MB 3.4 MB/s eta 0:00:04\n",
      "     -------- ------------------------------- 2.6/12.9 MB 3.3 MB/s eta 0:00:04\n",
      "     ---------- ----------------------------- 3.4/12.9 MB 3.3 MB/s eta 0:00:03\n",
      "     ------------- -------------------------- 4.2/12.9 MB 3.3 MB/s eta 0:00:03\n",
      "     -------------- ------------------------- 4.7/12.9 MB 3.3 MB/s eta 0:00:03\n",
      "     ----------------- ---------------------- 5.5/12.9 MB 3.3 MB/s eta 0:00:03\n",
      "     ------------------- -------------------- 6.3/12.9 MB 3.3 MB/s eta 0:00:02\n",
      "     -------------------- ------------------- 6.6/12.9 MB 3.2 MB/s eta 0:00:02\n",
      "     ---------------------- ----------------- 7.3/12.9 MB 3.1 MB/s eta 0:00:02\n",
      "     ------------------------ --------------- 7.9/12.9 MB 3.1 MB/s eta 0:00:02\n",
      "     -------------------------- ------------- 8.7/12.9 MB 3.2 MB/s eta 0:00:02\n",
      "     ----------------------------- ---------- 9.4/12.9 MB 3.2 MB/s eta 0:00:02\n",
      "     ------------------------------- -------- 10.2/12.9 MB 3.2 MB/s eta 0:00:01\n",
      "     --------------------------------- ------ 10.7/12.9 MB 3.2 MB/s eta 0:00:01\n",
      "     ----------------------------------- ---- 11.5/12.9 MB 3.2 MB/s eta 0:00:01\n",
      "     -------------------------------------- - 12.3/12.9 MB 3.2 MB/s eta 0:00:01\n",
      "     ---------------------------------------  12.8/12.9 MB 3.2 MB/s eta 0:00:01\n",
      "     ---------------------------------------- 12.9/12.9 MB 3.2 MB/s eta 0:00:00\n",
      "Installing collected packages: es-core-news-sm\n",
      "Successfully installed es-core-news-sm-3.8.0\n",
      "\u001B[38;5;2m✔ Download and installation successful\u001B[0m\n",
      "You can now load the package via spacy.load('es_core_news_sm')\n"
     ]
    },
    {
     "name": "stderr",
     "output_type": "stream",
     "text": [
      "\n",
      "[notice] A new release of pip is available: 25.0.1 -> 25.1.1\n",
      "[notice] To update, run: python.exe -m pip install --upgrade pip\n"
     ]
    }
   ],
   "execution_count": 8
  },
  {
   "cell_type": "code",
   "metadata": {
    "ExecuteTime": {
     "end_time": "2025-06-26T01:23:10.250511Z",
     "start_time": "2025-06-26T01:23:09.440417Z"
    }
   },
   "source": [
    "# Import spaCy\n",
    "import spacy\n",
    "\n",
    "# TODO: Create the Spanish nlp object [X]\n",
    "nlp = spacy.load(\"es_core_news_sm\")\n",
    "\n",
    "# Process a text (this is Spanish for: \"How are you?\")\n",
    "doc = nlp(\"¿Cómo estás?\")\n",
    "\n",
    "# Print the document text\n",
    "print(doc.text)"
   ],
   "outputs": [
    {
     "name": "stdout",
     "output_type": "stream",
     "text": [
      "¿Cómo estás?\n"
     ]
    }
   ],
   "execution_count": 9
  },
  {
   "cell_type": "markdown",
   "metadata": {},
   "source": [
    "When you call nlp on a string, spaCy first tokenizes the text and creates a document object. In this exercise, you’ll learn more about the Doc, as well as its views Token and Span.\n",
    "\n",
    "Step 1\n",
    "\n",
    "Use spacy.blank to create the English nlp object.\n",
    "Process the text and instantiate a Doc object in the variable doc.\n",
    "Select the first token of the Doc and print its text."
   ]
  },
  {
   "cell_type": "code",
   "metadata": {
    "ExecuteTime": {
     "end_time": "2025-06-26T01:24:27.841132Z",
     "start_time": "2025-06-26T01:24:27.709565Z"
    }
   },
   "source": [
    "# Import spaCy and create the English nlp object\n",
    "# Use spacy.blank to create the English nlp object.\n",
    "import spacy\n",
    "nlp = spacy.blank(\"en\")\n",
    "\n",
    "# Process the text\n",
    "doc = nlp(\"I like tree kangaroos and narwhals.\")\n",
    "\n",
    "# TODO: Select the first token [X]\n",
    "first_token = doc[0]\n",
    "\n",
    "# Print the first token's text\n",
    "print(first_token.text)"
   ],
   "outputs": [
    {
     "name": "stdout",
     "output_type": "stream",
     "text": [
      "I\n"
     ]
    }
   ],
   "execution_count": 10
  },
  {
   "cell_type": "code",
   "execution_count": 19,
   "metadata": {},
   "outputs": [
    {
     "name": "stdout",
     "output_type": "stream",
     "text": [
      "tree kangaroos\n",
      "tree kangaroos and narwhals\n"
     ]
    }
   ],
   "source": [
    "# Import spaCy and create the English nlp object\n",
    "import spacy\n",
    "\n",
    "nlp = spacy.blank(\"en\")\n",
    "\n",
    "# Process the text\n",
    "doc = nlp(\"I like tree kangaroos and narwhals.\")\n",
    "\n",
    "# A slice of the Doc for \"tree kangaroos\"\n",
    "tree_kangaroos = doc[2:4]\n",
    "print(tree_kangaroos.text)\n",
    "\n",
    "# A slice of the Doc for \"tree kangaroos and narwhals\" (without the \".\")\n",
    "tree_kangaroos_and_narwhals = doc[2:6]\n",
    "print(tree_kangaroos_and_narwhals.text)"
   ]
  },
  {
   "cell_type": "markdown",
   "metadata": {},
   "source": [
    "In this example, you’ll use spaCy’s Doc and Token objects, and lexical attributes to find percentages in a text. You’ll be looking for two subsequent tokens: a number and a percent sign.\n",
    "\n",
    "Use the like_num token attribute to check whether a token in the doc resembles a number.\n",
    "Get the token following the current token in the document. The index of the next token in the doc is token.i + 1.\n",
    "Check whether the next token’s text attribute is a percent sign ”%“."
   ]
  },
  {
   "cell_type": "code",
   "metadata": {
    "ExecuteTime": {
     "end_time": "2025-06-26T01:31:27.217626Z",
     "start_time": "2025-06-26T01:31:26.868184Z"
    }
   },
   "source": [
    "import spacy\n",
    "\n",
    "nlp = spacy.blank(\"en\")\n",
    "\n",
    "# Process the text\n",
    "doc = nlp(\n",
    "    \"In 1990, more than 60% of people in East Asia were in extreme poverty. \"\n",
    "    \"Now less than 4% are.\"\n",
    ")\n",
    "\n",
    "# Iterate over the tokens in the doc\n",
    "for i, token in enumerate(doc):\n",
    "    # Check if the token resembles a number\n",
    "    if token.like_num:\n",
    "        # TODO: Get the next token in the document [X]\n",
    "        if i + 1 < len(doc):\n",
    "            next_token = doc[i + 1]\n",
    "        # Check if the next token's text equals \"%\"\n",
    "            if next_token.text == \"%\":\n",
    "                print(\"Percentage found:\", token.text)"
   ],
   "outputs": [
    {
     "name": "stdout",
     "output_type": "stream",
     "text": [
      "Percentage found: 60\n",
      "Percentage found: 4\n"
     ]
    }
   ],
   "execution_count": 15
  },
  {
   "cell_type": "code",
   "metadata": {
    "ExecuteTime": {
     "end_time": "2025-06-26T01:38:57.661050Z",
     "start_time": "2025-06-26T01:38:57.236523Z"
    }
   },
   "source": [
    "import spacy\n",
    "\n",
    "# TODO: Load the small English pipeline [X]\n",
    "nlp = spacy.load(\"en_core_web_sm\")\n",
    "\n",
    "# Process a text\n",
    "doc = nlp(\"She ate the pizza\")\n",
    "\n",
    "# Iterate over the tokens\n",
    "for token in doc:\n",
    "    # TODO: Print the text and the predicted part-of-speech tag [X]\n",
    "    print(token.text, token.pos_)"
   ],
   "outputs": [
    {
     "name": "stdout",
     "output_type": "stream",
     "text": [
      "She PRON\n",
      "ate VERB\n",
      "the DET\n",
      "pizza NOUN\n"
     ]
    }
   ],
   "execution_count": 17
  },
  {
   "cell_type": "code",
   "execution_count": 22,
   "metadata": {},
   "outputs": [
    {
     "name": "stdout",
     "output_type": "stream",
     "text": [
      "She PRON nsubj ate\n",
      "ate VERB ROOT ate\n",
      "the DET det pizza\n",
      "pizza NOUN dobj ate\n"
     ]
    }
   ],
   "source": [
    "for token in doc:\n",
    "    print(token.text, token.pos_, token.dep_, token.head.text)"
   ]
  },
  {
   "cell_type": "code",
   "metadata": {
    "ExecuteTime": {
     "end_time": "2025-06-26T01:40:10.683522Z",
     "start_time": "2025-06-26T01:40:10.674007Z"
    }
   },
   "source": [
    "# Process a text\n",
    "doc = nlp(\"Apple is looking at buying U.K. startup for $1 billion\")\n",
    "\n",
    "# Iterate over the predicted entities\n",
    "for ent in doc.ents:\n",
    "    # TODO: Print the entity text and its label [X]\n",
    "    print(ent.text, ent.label_)"
   ],
   "outputs": [
    {
     "name": "stdout",
     "output_type": "stream",
     "text": [
      "Apple ORG\n",
      "U.K. GPE\n",
      "$1 billion MONEY\n"
     ]
    }
   ],
   "execution_count": 18
  },
  {
   "cell_type": "code",
   "execution_count": 25,
   "metadata": {},
   "outputs": [
    {
     "name": "stdout",
     "output_type": "stream",
     "text": [
      "Countries, cities, states\n",
      "Companies, agencies, institutions, etc.\n",
      "direct object\n"
     ]
    }
   ],
   "source": [
    "print(spacy.explain(\"GPE\"))\n",
    "print(spacy.explain(\"ORG\"))\n",
    "print(spacy.explain(\"dobj\"))"
   ]
  },
  {
   "cell_type": "code",
   "metadata": {
    "ExecuteTime": {
     "end_time": "2025-06-26T01:49:30.141073Z",
     "start_time": "2025-06-26T01:49:29.681807Z"
    }
   },
   "source": [
    "import spacy\n",
    "\n",
    "# Load the \"en_core_web_sm\" pipeline\n",
    "nlp = spacy.load(\"en_core_web_sm\")\n",
    "\n",
    "text = \"It’s official: Apple is the first U.S. public company to reach a $1 trillion market value\"\n",
    "\n",
    "# TODO: Process the text [X]\n",
    "doc = nlp(text)\n",
    "\n",
    "# TODO: Print the document text [X]\n",
    "print(doc.text)"
   ],
   "outputs": [
    {
     "name": "stdout",
     "output_type": "stream",
     "text": [
      "It’s official: Apple is the first U.S. public company to reach a $1 trillion market value\n"
     ]
    }
   ],
   "execution_count": 19
  },
  {
   "cell_type": "markdown",
   "metadata": {},
   "source": [
    "* You’ll now get to try one of spaCy’s trained pipeline packages and see its predictions in action. Feel free to try it out on your own text! To find out what a tag or label means, you can call spacy.explain in the loop. For example: spacy.explain(\"PROPN\") or spacy.explain(\"GPE\").\n",
    "\n",
    "Part 1\n",
    "\n",
    "* Process the text with the nlp object and create a doc.\n",
    "For each token, print the token text, the token’s .pos_ (part-of-speech tag) and the token’s .dep_ (dependency label)."
   ]
  },
  {
   "cell_type": "code",
   "execution_count": 33,
   "metadata": {},
   "outputs": [
    {
     "name": "stdout",
     "output_type": "stream",
     "text": [
      "It          PRON      429       \n",
      "’s          VERB      408       \n",
      "official    NOUN      404       \n",
      ":           PUNCT     445       \n",
      "Apple       PROPN     429       \n",
      "is          AUX       8206900633647566924\n",
      "the         DET       415       \n",
      "first       ADJ       402       \n",
      "U.S.        PROPN     426       \n",
      "public      ADJ       402       \n",
      "company     NOUN      404       \n",
      "to          PART      405       \n",
      "reach       VERB      447       \n",
      "a           DET       415       \n",
      "$           SYM       446       \n",
      "1           NUM       7037928807040764755\n",
      "trillion    NUM       12837356684637874264\n",
      "market      NOUN      7037928807040764755\n",
      "value       NOUN      416       \n"
     ]
    }
   ],
   "source": [
    "import spacy\n",
    "\n",
    "nlp = spacy.load(\"en_core_web_sm\")\n",
    "\n",
    "text = \"It’s official: Apple is the first U.S. public company to reach a $1 trillion market value\"\n",
    "\n",
    "# Process the text\n",
    "doc = nlp(text)\n",
    "\n",
    "for token in doc:\n",
    "    # Get the token text, part-of-speech tag and dependency label\n",
    "    token_text = token.text\n",
    "    token_pos = token.pos_\n",
    "    #  Are you getting the token's dependency label correctly? Remember to use the underscore attribute\n",
    "    token_pos = token.pos_\n",
    "    token_dep = token.dep\n",
    "    # This is for formatting only\n",
    "    print(f\"{token_text:<12}{token_pos:<10}{token_dep:<10}\")"
   ]
  },
  {
   "cell_type": "markdown",
   "metadata": {},
   "source": [
    "*Part 2\n",
    "\n",
    "*Process the text and create a doc object.\n",
    "*Iterate over the doc.ents and print the entity text and label_ attribute."
   ]
  },
  {
   "cell_type": "code",
   "metadata": {
    "ExecuteTime": {
     "end_time": "2025-06-26T01:50:06.594118Z",
     "start_time": "2025-06-26T01:50:06.153605Z"
    }
   },
   "source": [
    "import spacy\n",
    "\n",
    "nlp = spacy.load(\"en_core_web_sm\")\n",
    "\n",
    "text = \"It’s official: Apple is the first U.S. public company to reach a $1 trillion market value\"\n",
    "\n",
    "# Process the text\n",
    "doc = nlp(text)\n",
    "\n",
    "# Iterate over the predicted entities\n",
    "for ent in doc.ents:\n",
    "    # TODO: Print the entity text and its label [X]\n",
    "    print(ent.text, ent.label_)"
   ],
   "outputs": [
    {
     "name": "stdout",
     "output_type": "stream",
     "text": [
      "Apple ORG\n",
      "first ORDINAL\n",
      "U.S. GPE\n",
      "$1 trillion MONEY\n"
     ]
    }
   ],
   "execution_count": 20
  },
  {
   "cell_type": "markdown",
   "metadata": {},
   "source": [
    "*Models are statistical and not always right. Whether their predictions are correct depends on the training data and the text you’re processing. Let’s take a look at an example.\n",
    "\n",
    "*Process the text with the nlp object.\n",
    "Iterate over the entities and print the entity text and label.\n",
    "Looks like the model didn’t predict “iPhone X”. Create a span for those tokens manually."
   ]
  },
  {
   "cell_type": "code",
   "metadata": {
    "ExecuteTime": {
     "end_time": "2025-06-26T01:50:43.809985Z",
     "start_time": "2025-06-26T01:50:43.379500Z"
    }
   },
   "source": [
    "import spacy\n",
    "\n",
    "nlp = spacy.load(\"en_core_web_sm\")\n",
    "\n",
    "text = \"Upcoming iPhone X release date leaked as Apple reveals pre-orders\"\n",
    "\n",
    "# Process the text\n",
    "doc = nlp(text)\n",
    "\n",
    "# Iterate over the entities\n",
    "for ent in doc.ents: # what are entities? The entities are the named entities that the model has recognized in the text.\n",
    "    # Print the entity text and label\n",
    "    print(ent.text, ent.label_)\n",
    "\n",
    "# TODO: Get the span for \"iPhone X\" [X]\n",
    "iphone_x = doc[1:3]\n",
    "\n",
    "# Print the span text\n",
    "print(\"Missing entity:\", iphone_x.text)"
   ],
   "outputs": [
    {
     "name": "stdout",
     "output_type": "stream",
     "text": [
      "Apple ORG\n",
      "Missing entity: iPhone X\n"
     ]
    }
   ],
   "execution_count": 21
  },
  {
   "cell_type": "markdown",
   "metadata": {},
   "source": [
    "### Rule-based matching\n",
    "\n"
   ]
  },
  {
   "cell_type": "markdown",
   "metadata": {},
   "source": [
    "* Let’s try spaCy’s rule-based Matcher. You’ll be using the example from the previous exercise and write a pattern that can match the phrase “iPhone X” in the text.\n",
    "\n",
    "* Import the Matcher from spacy.matcher.\n",
    "* Initialize it with the nlp object’s shared vocab.\n",
    "* Create a pattern that matches the \"TEXT\" values of two tokens: \"iPhone\" and \"X\".\n",
    "* Use the matcher.add method to add the pattern to the matcher.\n",
    "* Call the matcher on the doc and store the result in the variable matches.\n",
    "* Iterate over the matches and get the matched span from the start to the end index."
   ]
  },
  {
   "cell_type": "code",
   "metadata": {
    "ExecuteTime": {
     "end_time": "2025-06-26T01:51:17.180843Z",
     "start_time": "2025-06-26T01:51:16.581866Z"
    }
   },
   "source": [
    "import spacy\n",
    "\n",
    "# Import the Matcher\n",
    "from spacy.matcher import Matcher\n",
    "\n",
    "nlp = spacy.load(\"en_core_web_sm\")\n",
    "doc = nlp(\"Upcoming iPhone X release date leaked as Apple reveals pre-orders\")\n",
    "\n",
    "# Initialize the Matcher with the shared vocabulary\n",
    "matcher = Matcher(doc.vocab)\n",
    "\n",
    "# TODO: Create a pattern matching two tokens: \"iPhone\" and \"X\" [X]\n",
    "pattern = [{\"LOWER\": \"iphone\"}, {\"LOWER\": \"x\"}]\n",
    "\n",
    "# Add the pattern to the matcher\n",
    "matcher.add(\"IPHONE_X_PATTERN\", [pattern])\n",
    "\n",
    "# Use the matcher on the doc\n",
    "matches = matcher(doc)\n",
    "print(\"Matches:\", [doc[start:end].text for match_id, start, end in matches])"
   ],
   "outputs": [
    {
     "name": "stdout",
     "output_type": "stream",
     "text": [
      "Matches: ['iPhone X']\n"
     ]
    }
   ],
   "execution_count": 22
  },
  {
   "cell_type": "markdown",
   "metadata": {},
   "source": [
    "### Writing match patterns\n",
    "\n",
    "* In this exercise, you’ll practice writing more complex match patterns using different token attributes and operators.\n",
    "\n",
    "* Part 1\n",
    "\n",
    "* Write one pattern that only matches mentions of the full iOS versions: “iOS 7”, “iOS 11” and “iOS 10”"
   ]
  },
  {
   "cell_type": "code",
   "execution_count": 37,
   "metadata": {},
   "outputs": [
    {
     "name": "stdout",
     "output_type": "stream",
     "text": [
      "Total matches found: 3\n",
      "Match found: iOS 7\n",
      "Match found: iOS 11\n",
      "Match found: iOS 10\n"
     ]
    }
   ],
   "source": [
    "import spacy\n",
    "from spacy.matcher import Matcher\n",
    "\n",
    "nlp = spacy.load(\"en_core_web_sm\")\n",
    "matcher = Matcher(nlp.vocab)\n",
    "\n",
    "doc = nlp(\n",
    "    \"After making the iOS update you won't notice a radical system-wide \"\n",
    "    \"redesign: nothing like the aesthetic upheaval we got with iOS 7. Most of \"\n",
    "    \"iOS 11's furniture remains the same as in iOS 10. But you will discover \"\n",
    "    \"some tweaks once you delve a little deeper.\"\n",
    ")\n",
    "\n",
    "# Write a pattern for full iOS versions (\"iOS 7\", \"iOS 11\", \"iOS 10\")\n",
    "pattern = [{\"TEXT\": \"iOS\"}, {\"IS_DIGIT\": True}]\n",
    "\n",
    "\n",
    "# Add the pattern to the matcher and apply the matcher to the doc\n",
    "matcher.add(\"IOS_VERSION_PATTERN\", [pattern])\n",
    "matches = matcher(doc)\n",
    "print(\"Total matches found:\", len(matches))\n",
    "\n",
    "# Iterate over the matches and print the span text\n",
    "for match_id, start, end in matches:\n",
    "    print(\"Match found:\", doc[start:end].text)"
   ]
  },
  {
   "cell_type": "markdown",
   "metadata": {},
   "source": [
    "Part 2\n",
    "\n",
    "* Write one pattern that only matches forms of “download” (tokens with the lemma “download”), followed by a token with the part-of-speech tag \"PROPN\" (proper noun).\n",
    "\n"
   ]
  },
  {
   "cell_type": "code",
   "metadata": {
    "ExecuteTime": {
     "end_time": "2025-06-26T01:52:31.101358Z",
     "start_time": "2025-06-26T01:52:30.635867Z"
    }
   },
   "source": [
    "import spacy\n",
    "from spacy.matcher import Matcher\n",
    "\n",
    "nlp = spacy.load(\"en_core_web_sm\")\n",
    "matcher = Matcher(nlp.vocab)\n",
    "\n",
    "doc = nlp(\n",
    "    \"i downloaded Fortnite on my laptop and can't open the game at all. Help? \"\n",
    "    \"so when I was downloading Minecraft, I got the Windows version where it \"\n",
    "    \"is the '.zip' folder and I used the default program to unpack it... do \"\n",
    "    \"I also need to download Winzip?\"\n",
    ")\n",
    "\n",
    "# TODO: Write a pattern that matches a form of \"download\" plus proper noun [x]\n",
    "pattern = [{\"LEMMA\": \"download\"}, {\"POS\": \"PROPN\"}]\n",
    "\n",
    "# TODO: Add the pattern to the matcher and apply the matcher to the doc [X]\n",
    "matcher.add(\"DOWNLOAD_THINGS_PATTERN\", [pattern])\n",
    "matches = matcher(doc)\n",
    "print(\"Total matches found:\", len(matches))\n",
    "\n",
    "# Iterate over the matches and print the span text\n",
    "for match_id, start, end in matches:\n",
    "    print(\"Match found:\", doc[start:end].text)"
   ],
   "outputs": [
    {
     "name": "stdout",
     "output_type": "stream",
     "text": [
      "Total matches found: 3\n",
      "Match found: downloaded Fortnite\n",
      "Match found: downloading Minecraft\n",
      "Match found: download Winzip\n"
     ]
    }
   ],
   "execution_count": 23
  },
  {
   "cell_type": "markdown",
   "metadata": {},
   "source": [
    "* Part 3\n",
    "\n",
    "Write one pattern that matches adjectives (\"ADJ\") followed by one or two \"NOUN\"s (one noun and one optional noun)."
   ]
  },
  {
   "cell_type": "code",
   "metadata": {
    "ExecuteTime": {
     "end_time": "2025-06-26T01:53:29.500561Z",
     "start_time": "2025-06-26T01:53:29.042153Z"
    }
   },
   "source": [
    "import spacy\n",
    "from spacy.matcher import Matcher\n",
    "\n",
    "nlp = spacy.load(\"en_core_web_sm\")\n",
    "matcher = Matcher(nlp.vocab)\n",
    "\n",
    "doc = nlp(\n",
    "    \"Features of the app include a beautiful design, smart search, automatic \"\n",
    "    \"labels and optional voice responses.\"\n",
    ")\n",
    "\n",
    "# TODO: Write a pattern for adjective plus one or two nouns [X]\n",
    "pattern = [{\"POS\": \"ADJ\"}, {\"POS\": \"NOUN\"}, {\"POS\": \"NOUN\", \"OP\": \"?\"}] # this OP # operator means that the noun is optional, so it can match either one or two nouns.\n",
    "\n",
    "# Add the pattern to the matcher and apply the matcher to the doc\n",
    "matcher.add(\"ADJ_NOUN_PATTERN\", [pattern])\n",
    "matches = matcher(doc)\n",
    "print(\"Total matches found:\", len(matches))\n",
    "\n",
    "# Iterate over the matches and print the span text\n",
    "for match_id, start, end in matches:\n",
    "    print(\"Match found:\", doc[start:end].text)"
   ],
   "outputs": [
    {
     "name": "stdout",
     "output_type": "stream",
     "text": [
      "Total matches found: 5\n",
      "Match found: beautiful design\n",
      "Match found: smart search\n",
      "Match found: automatic labels\n",
      "Match found: optional voice\n",
      "Match found: optional voice responses\n"
     ]
    }
   ],
   "execution_count": 24
  },
  {
   "cell_type": "markdown",
   "metadata": {},
   "source": []
  }
 ],
 "metadata": {
  "kernelspec": {
   "display_name": "torch",
   "language": "python",
   "name": "python3"
  },
  "language_info": {
   "codemirror_mode": {
    "name": "ipython",
    "version": 3
   },
   "file_extension": ".py",
   "mimetype": "text/x-python",
   "name": "python",
   "nbconvert_exporter": "python",
   "pygments_lexer": "ipython3",
   "version": "3.9.19"
  }
 },
 "nbformat": 4,
 "nbformat_minor": 2
}
