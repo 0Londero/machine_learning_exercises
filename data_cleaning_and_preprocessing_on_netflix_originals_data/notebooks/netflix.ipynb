{
 "cells": [
  {
   "metadata": {},
   "cell_type": "markdown",
   "source": "### Libraries Being use on this Exercise",
   "id": "51915f65f4775438"
  },
  {
   "cell_type": "code",
   "id": "initial_id",
   "metadata": {
    "collapsed": true,
    "ExecuteTime": {
     "end_time": "2025-06-21T01:24:44.363170Z",
     "start_time": "2025-06-21T01:24:44.359575Z"
    }
   },
   "source": [
    "import pandas as pd\n",
    "import seaborn as sns\n",
    "import plotly.express as px\n",
    "import matplotlib.pyplot as plt\n",
    "from sklearn.preprocessing import RobustScaler"
   ],
   "outputs": [],
   "execution_count": 40
  },
  {
   "metadata": {},
   "cell_type": "markdown",
   "source": "- Data import",
   "id": "83c0ce83ef5fd959"
  },
  {
   "metadata": {
    "ExecuteTime": {
     "end_time": "2025-06-21T01:24:44.412299Z",
     "start_time": "2025-06-21T01:24:44.399558Z"
    }
   },
   "cell_type": "code",
   "source": "df = pd.read_csv(r\"..//data//netflix_originals.csv\")",
   "id": "2365f58212079262",
   "outputs": [],
   "execution_count": 41
  },
  {
   "metadata": {},
   "cell_type": "markdown",
   "source": [
    "___\n",
    "\n",
    "1. Perform the initial analysis on the dataset. Print the first 10 rows of the data\n",
    "to see how the data looks like."
   ],
   "id": "769a56c45363da40"
  },
  {
   "metadata": {
    "ExecuteTime": {
     "end_time": "2025-06-21T01:24:44.452807Z",
     "start_time": "2025-06-21T01:24:44.442874Z"
    }
   },
   "cell_type": "code",
   "source": "df.head(10)",
   "id": "e1a5870644644017",
   "outputs": [
    {
     "data": {
      "text/plain": [
       "                  titles  years                     genres  imdb runtime  \\\n",
       "0  Zumbo's Just Desserts   2016                 Reality-TV   6.9  52 min   \n",
       "1              Zona Rosa   2019                     Comedy   6.0     NaN   \n",
       "2        Young Wallander   2020      Crime, Drama, Mystery   6.7     NaN   \n",
       "3           You vs. Wild   2019      Adventure, Reality-TV   6.7  20 min   \n",
       "4                    You   2018      Crime, Drama, Romance   7.8  45 min   \n",
       "5   YooHoo to the Rescue   2019                     Family   6.9     NaN   \n",
       "6                 Yankee   2019                      Drama   6.0  40 min   \n",
       "7           Wu Assassins   2019       Action, Crime, Drama   6.4  44 min   \n",
       "8    World's Most Wanted   2020         Documentary, Crime   7.1     NaN   \n",
       "9          World of Winx   2016  Animation, Action, Comedy   6.8  30 min   \n",
       "\n",
       "                                         description  \\\n",
       "0  Amateur Australian chefs compete to impress pa...   \n",
       "1                                         Add a Plot   \n",
       "2  Follow recently graduated police officer Kurt ...   \n",
       "3  In this interactive series, you'll make key de...   \n",
       "4  A dangerously charming, intensely obsessive yo...   \n",
       "5  In a series of magical missions, quick-witted ...   \n",
       "6  On the run from the police, an Arizona man cro...   \n",
       "7  A warrior chosen as the latest and last Wu Ass...   \n",
       "8  Heinous criminals have avoided capture despite...   \n",
       "9  The Winx travel all over the world searching f...   \n",
       "\n",
       "                                               stars    votes     type  \\\n",
       "0           Gigi Falanga, Rachel Khoo, Adriano Zumbo    1,779  TV Show   \n",
       "1  Ray Contreras, Pablo Morán, Manu Nna, Ana Juli...       33  TV Show   \n",
       "2  Adam Pålsson, Leanne Best, Richard Dillane, El...    5,419  TV Show   \n",
       "3                                        Bear Grylls    1,977  TV Show   \n",
       "4  Penn Badgley, Victoria Pedretti, Ambyr Childer...  134,932  TV Show   \n",
       "5  Ryan Bartley, Kira Buckland, Lucien Dodge, Kyl...       37  TV Show   \n",
       "6  Pablo Lyle, Ana Layevska, Pamela Almanza, Seba...      458  TV Show   \n",
       "7     Iko Uwais, Byron Mann, Li Jun Li, Lawrence Kao    9,336  TV Show   \n",
       "8  Jennifer Julian, Thomas Fuentes, Calogero Germ...    1,495  TV Show   \n",
       "9  Rebecca Soler, Alysha Deslorieux, Haven Pascha...      556  TV Show   \n",
       "\n",
       "  original  \n",
       "0  Netflix  \n",
       "1  Netflix  \n",
       "2  Netflix  \n",
       "3  Netflix  \n",
       "4  Netflix  \n",
       "5  Netflix  \n",
       "6  Netflix  \n",
       "7  Netflix  \n",
       "8  Netflix  \n",
       "9  Netflix  "
      ],
      "text/html": [
       "<div>\n",
       "<style scoped>\n",
       "    .dataframe tbody tr th:only-of-type {\n",
       "        vertical-align: middle;\n",
       "    }\n",
       "\n",
       "    .dataframe tbody tr th {\n",
       "        vertical-align: top;\n",
       "    }\n",
       "\n",
       "    .dataframe thead th {\n",
       "        text-align: right;\n",
       "    }\n",
       "</style>\n",
       "<table border=\"1\" class=\"dataframe\">\n",
       "  <thead>\n",
       "    <tr style=\"text-align: right;\">\n",
       "      <th></th>\n",
       "      <th>titles</th>\n",
       "      <th>years</th>\n",
       "      <th>genres</th>\n",
       "      <th>imdb</th>\n",
       "      <th>runtime</th>\n",
       "      <th>description</th>\n",
       "      <th>stars</th>\n",
       "      <th>votes</th>\n",
       "      <th>type</th>\n",
       "      <th>original</th>\n",
       "    </tr>\n",
       "  </thead>\n",
       "  <tbody>\n",
       "    <tr>\n",
       "      <th>0</th>\n",
       "      <td>Zumbo's Just Desserts</td>\n",
       "      <td>2016</td>\n",
       "      <td>Reality-TV</td>\n",
       "      <td>6.9</td>\n",
       "      <td>52 min</td>\n",
       "      <td>Amateur Australian chefs compete to impress pa...</td>\n",
       "      <td>Gigi Falanga, Rachel Khoo, Adriano Zumbo</td>\n",
       "      <td>1,779</td>\n",
       "      <td>TV Show</td>\n",
       "      <td>Netflix</td>\n",
       "    </tr>\n",
       "    <tr>\n",
       "      <th>1</th>\n",
       "      <td>Zona Rosa</td>\n",
       "      <td>2019</td>\n",
       "      <td>Comedy</td>\n",
       "      <td>6.0</td>\n",
       "      <td>NaN</td>\n",
       "      <td>Add a Plot</td>\n",
       "      <td>Ray Contreras, Pablo Morán, Manu Nna, Ana Juli...</td>\n",
       "      <td>33</td>\n",
       "      <td>TV Show</td>\n",
       "      <td>Netflix</td>\n",
       "    </tr>\n",
       "    <tr>\n",
       "      <th>2</th>\n",
       "      <td>Young Wallander</td>\n",
       "      <td>2020</td>\n",
       "      <td>Crime, Drama, Mystery</td>\n",
       "      <td>6.7</td>\n",
       "      <td>NaN</td>\n",
       "      <td>Follow recently graduated police officer Kurt ...</td>\n",
       "      <td>Adam Pålsson, Leanne Best, Richard Dillane, El...</td>\n",
       "      <td>5,419</td>\n",
       "      <td>TV Show</td>\n",
       "      <td>Netflix</td>\n",
       "    </tr>\n",
       "    <tr>\n",
       "      <th>3</th>\n",
       "      <td>You vs. Wild</td>\n",
       "      <td>2019</td>\n",
       "      <td>Adventure, Reality-TV</td>\n",
       "      <td>6.7</td>\n",
       "      <td>20 min</td>\n",
       "      <td>In this interactive series, you'll make key de...</td>\n",
       "      <td>Bear Grylls</td>\n",
       "      <td>1,977</td>\n",
       "      <td>TV Show</td>\n",
       "      <td>Netflix</td>\n",
       "    </tr>\n",
       "    <tr>\n",
       "      <th>4</th>\n",
       "      <td>You</td>\n",
       "      <td>2018</td>\n",
       "      <td>Crime, Drama, Romance</td>\n",
       "      <td>7.8</td>\n",
       "      <td>45 min</td>\n",
       "      <td>A dangerously charming, intensely obsessive yo...</td>\n",
       "      <td>Penn Badgley, Victoria Pedretti, Ambyr Childer...</td>\n",
       "      <td>134,932</td>\n",
       "      <td>TV Show</td>\n",
       "      <td>Netflix</td>\n",
       "    </tr>\n",
       "    <tr>\n",
       "      <th>5</th>\n",
       "      <td>YooHoo to the Rescue</td>\n",
       "      <td>2019</td>\n",
       "      <td>Family</td>\n",
       "      <td>6.9</td>\n",
       "      <td>NaN</td>\n",
       "      <td>In a series of magical missions, quick-witted ...</td>\n",
       "      <td>Ryan Bartley, Kira Buckland, Lucien Dodge, Kyl...</td>\n",
       "      <td>37</td>\n",
       "      <td>TV Show</td>\n",
       "      <td>Netflix</td>\n",
       "    </tr>\n",
       "    <tr>\n",
       "      <th>6</th>\n",
       "      <td>Yankee</td>\n",
       "      <td>2019</td>\n",
       "      <td>Drama</td>\n",
       "      <td>6.0</td>\n",
       "      <td>40 min</td>\n",
       "      <td>On the run from the police, an Arizona man cro...</td>\n",
       "      <td>Pablo Lyle, Ana Layevska, Pamela Almanza, Seba...</td>\n",
       "      <td>458</td>\n",
       "      <td>TV Show</td>\n",
       "      <td>Netflix</td>\n",
       "    </tr>\n",
       "    <tr>\n",
       "      <th>7</th>\n",
       "      <td>Wu Assassins</td>\n",
       "      <td>2019</td>\n",
       "      <td>Action, Crime, Drama</td>\n",
       "      <td>6.4</td>\n",
       "      <td>44 min</td>\n",
       "      <td>A warrior chosen as the latest and last Wu Ass...</td>\n",
       "      <td>Iko Uwais, Byron Mann, Li Jun Li, Lawrence Kao</td>\n",
       "      <td>9,336</td>\n",
       "      <td>TV Show</td>\n",
       "      <td>Netflix</td>\n",
       "    </tr>\n",
       "    <tr>\n",
       "      <th>8</th>\n",
       "      <td>World's Most Wanted</td>\n",
       "      <td>2020</td>\n",
       "      <td>Documentary, Crime</td>\n",
       "      <td>7.1</td>\n",
       "      <td>NaN</td>\n",
       "      <td>Heinous criminals have avoided capture despite...</td>\n",
       "      <td>Jennifer Julian, Thomas Fuentes, Calogero Germ...</td>\n",
       "      <td>1,495</td>\n",
       "      <td>TV Show</td>\n",
       "      <td>Netflix</td>\n",
       "    </tr>\n",
       "    <tr>\n",
       "      <th>9</th>\n",
       "      <td>World of Winx</td>\n",
       "      <td>2016</td>\n",
       "      <td>Animation, Action, Comedy</td>\n",
       "      <td>6.8</td>\n",
       "      <td>30 min</td>\n",
       "      <td>The Winx travel all over the world searching f...</td>\n",
       "      <td>Rebecca Soler, Alysha Deslorieux, Haven Pascha...</td>\n",
       "      <td>556</td>\n",
       "      <td>TV Show</td>\n",
       "      <td>Netflix</td>\n",
       "    </tr>\n",
       "  </tbody>\n",
       "</table>\n",
       "</div>"
      ]
     },
     "execution_count": 42,
     "metadata": {},
     "output_type": "execute_result"
    }
   ],
   "execution_count": 42
  },
  {
   "metadata": {},
   "cell_type": "markdown",
   "source": [
    "___\n",
    "\n",
    "2.  Print the shape of the data to find the number of rows and columns."
   ],
   "id": "fd0f57b3a00b707b"
  },
  {
   "metadata": {
    "ExecuteTime": {
     "end_time": "2025-06-21T01:24:44.548030Z",
     "start_time": "2025-06-21T01:24:44.541752Z"
    }
   },
   "cell_type": "code",
   "source": "df.shape",
   "id": "50aa1751c6f8c34a",
   "outputs": [
    {
     "data": {
      "text/plain": [
       "(1517, 10)"
      ]
     },
     "execution_count": 43,
     "metadata": {},
     "output_type": "execute_result"
    }
   ],
   "execution_count": 43
  },
  {
   "metadata": {},
   "cell_type": "markdown",
   "source": [
    "___\n",
    "\n",
    "3. The genre column has multiple values in each row. As a part of cleaning,\n",
    "extract only the first genre from each row."
   ],
   "id": "f4d73d8aa074bd33"
  },
  {
   "metadata": {
    "ExecuteTime": {
     "end_time": "2025-06-21T01:24:44.768260Z",
     "start_time": "2025-06-21T01:24:44.763206Z"
    }
   },
   "cell_type": "code",
   "source": "df['genres'].head(5)",
   "id": "607f3d69346450e9",
   "outputs": [
    {
     "data": {
      "text/plain": [
       "0               Reality-TV\n",
       "1                   Comedy\n",
       "2    Crime, Drama, Mystery\n",
       "3    Adventure, Reality-TV\n",
       "4    Crime, Drama, Romance\n",
       "Name: genres, dtype: object"
      ]
     },
     "execution_count": 44,
     "metadata": {},
     "output_type": "execute_result"
    }
   ],
   "execution_count": 44
  },
  {
   "metadata": {
    "ExecuteTime": {
     "end_time": "2025-06-21T01:24:44.888199Z",
     "start_time": "2025-06-21T01:24:44.882355Z"
    }
   },
   "cell_type": "code",
   "source": "df['genres'].isnull().sum()",
   "id": "d509adbd28f64de0",
   "outputs": [
    {
     "data": {
      "text/plain": [
       "np.int64(1)"
      ]
     },
     "execution_count": 45,
     "metadata": {},
     "output_type": "execute_result"
    }
   ],
   "execution_count": 45
  },
  {
   "metadata": {
    "ExecuteTime": {
     "end_time": "2025-06-21T01:24:45.122791Z",
     "start_time": "2025-06-21T01:24:45.116501Z"
    }
   },
   "cell_type": "code",
   "source": "df.dropna(subset=['genres'], inplace = True)",
   "id": "7438191e9ee8d3fd",
   "outputs": [],
   "execution_count": 46
  },
  {
   "metadata": {
    "ExecuteTime": {
     "end_time": "2025-06-21T01:24:45.172486Z",
     "start_time": "2025-06-21T01:24:45.167681Z"
    }
   },
   "cell_type": "code",
   "source": [
    "genres_clean = []\n",
    "\n",
    "for rows in df['genres']:\n",
    "    first_genre = rows.split(',')[0].strip().lower()\n",
    "    genres_clean.append(first_genre)\n",
    "\n",
    "df['genres'] = genres_clean"
   ],
   "id": "31e3cb747b893341",
   "outputs": [],
   "execution_count": 47
  },
  {
   "metadata": {
    "ExecuteTime": {
     "end_time": "2025-06-21T01:24:45.211265Z",
     "start_time": "2025-06-21T01:24:45.206490Z"
    }
   },
   "cell_type": "code",
   "source": "df['genres'].head(5)",
   "id": "d655f5df87568a52",
   "outputs": [
    {
     "data": {
      "text/plain": [
       "0    reality-tv\n",
       "1        comedy\n",
       "2         crime\n",
       "3     adventure\n",
       "4         crime\n",
       "Name: genres, dtype: object"
      ]
     },
     "execution_count": 48,
     "metadata": {},
     "output_type": "execute_result"
    }
   ],
   "execution_count": 48
  },
  {
   "metadata": {
    "ExecuteTime": {
     "end_time": "2025-06-21T01:24:45.288318Z",
     "start_time": "2025-06-21T01:24:45.280972Z"
    }
   },
   "cell_type": "code",
   "source": "df['genres'].sample(10)",
   "id": "a5d9f303297227af",
   "outputs": [
    {
     "data": {
      "text/plain": [
       "864     documentary\n",
       "544     documentary\n",
       "419       animation\n",
       "1303          music\n",
       "641     documentary\n",
       "103          action\n",
       "465          comedy\n",
       "1101         comedy\n",
       "118          action\n",
       "1385    documentary\n",
       "Name: genres, dtype: object"
      ]
     },
     "execution_count": 49,
     "metadata": {},
     "output_type": "execute_result"
    }
   ],
   "execution_count": 49
  },
  {
   "metadata": {},
   "cell_type": "markdown",
   "source": [
    "- To clean the genres column, I first checked for and removed any null values to prevent issues during iteration. Then, I used a loop to go through each row, extracting only the first genre in cases where multiple genres were listed (separated by commas). I standardized the extracted values by stripping whitespace and converting them to lowercase for consistency. Finally, I used `.head()` and `.sample()` to verify that the cleaning process was successful and that the data was properly formatted.\n",
    "\n",
    "___\n",
    "\n",
    "\n",
    "4. Find the number of missing values in the data. If there are missing values, what method will you choose for each of the columns? Choose between mean/median/mode imputation, ffill, bfill, dropping the missing values. Please provide clear justification for choosing a particular approach."
   ],
   "id": "22dfd172940841f2"
  },
  {
   "metadata": {
    "ExecuteTime": {
     "end_time": "2025-06-21T01:24:45.442323Z",
     "start_time": "2025-06-21T01:24:45.436767Z"
    }
   },
   "cell_type": "code",
   "source": "df.dtypes",
   "id": "93411ddff97de9e8",
   "outputs": [
    {
     "data": {
      "text/plain": [
       "titles          object\n",
       "years            int64\n",
       "genres          object\n",
       "imdb           float64\n",
       "runtime         object\n",
       "description     object\n",
       "stars           object\n",
       "votes           object\n",
       "type            object\n",
       "original        object\n",
       "dtype: object"
      ]
     },
     "execution_count": 50,
     "metadata": {},
     "output_type": "execute_result"
    }
   ],
   "execution_count": 50
  },
  {
   "metadata": {
    "ExecuteTime": {
     "end_time": "2025-06-21T01:24:45.574898Z",
     "start_time": "2025-06-21T01:24:45.570034Z"
    }
   },
   "cell_type": "code",
   "source": "df.count()",
   "id": "2b0586e4cbbc20b7",
   "outputs": [
    {
     "data": {
      "text/plain": [
       "titles         1516\n",
       "years          1516\n",
       "genres         1516\n",
       "imdb           1511\n",
       "runtime        1275\n",
       "description    1516\n",
       "stars          1488\n",
       "votes          1515\n",
       "type           1516\n",
       "original       1516\n",
       "dtype: int64"
      ]
     },
     "execution_count": 51,
     "metadata": {},
     "output_type": "execute_result"
    }
   ],
   "execution_count": 51
  },
  {
   "metadata": {
    "ExecuteTime": {
     "end_time": "2025-06-21T01:24:45.723774Z",
     "start_time": "2025-06-21T01:24:45.717821Z"
    }
   },
   "cell_type": "code",
   "source": "df.isnull().sum()",
   "id": "f20ddc9f0598712",
   "outputs": [
    {
     "data": {
      "text/plain": [
       "titles           0\n",
       "years            0\n",
       "genres           0\n",
       "imdb             5\n",
       "runtime        241\n",
       "description      0\n",
       "stars           28\n",
       "votes            1\n",
       "type             0\n",
       "original         0\n",
       "dtype: int64"
      ]
     },
     "execution_count": 52,
     "metadata": {},
     "output_type": "execute_result"
    }
   ],
   "execution_count": 52
  },
  {
   "metadata": {
    "ExecuteTime": {
     "end_time": "2025-06-21T01:24:45.883416Z",
     "start_time": "2025-06-21T01:24:45.872729Z"
    }
   },
   "cell_type": "code",
   "source": [
    "df = df.dropna(subset=['imdb', 'stars', 'votes'])\n",
    "df.isnull().sum()"
   ],
   "id": "e132cb0b62ffc707",
   "outputs": [
    {
     "data": {
      "text/plain": [
       "titles           0\n",
       "years            0\n",
       "genres           0\n",
       "imdb             0\n",
       "runtime        220\n",
       "description      0\n",
       "stars            0\n",
       "votes            0\n",
       "type             0\n",
       "original         0\n",
       "dtype: int64"
      ]
     },
     "execution_count": 53,
     "metadata": {},
     "output_type": "execute_result"
    }
   ],
   "execution_count": 53
  },
  {
   "metadata": {
    "ExecuteTime": {
     "end_time": "2025-06-21T01:24:46.038776Z",
     "start_time": "2025-06-21T01:24:46.028539Z"
    }
   },
   "cell_type": "code",
   "source": [
    "runtime_minutes = []\n",
    "for rows in df['runtime']:\n",
    "    if pd.isnull(rows):\n",
    "        runtime_minutes.append(None)\n",
    "    else:\n",
    "        minutes = str(rows).split(' ')[0].strip()\n",
    "        runtime_minutes.append(minutes)\n",
    "df['runtime'] = runtime_minutes\n",
    "df.rename(columns={'runtime': 'runtime_minutes'}, inplace=True)\n",
    "\n",
    "\n",
    "df['runtime_minutes'] = pd.to_numeric(df['runtime_minutes'], errors='coerce')\n",
    "df['runtime_minutes'] = df['runtime_minutes'].fillna(df.groupby('genres')['runtime_minutes'].transform('mean'))\n",
    "\n",
    "\n",
    "df.isnull().sum()"
   ],
   "id": "e416a7d8ceb63b91",
   "outputs": [
    {
     "data": {
      "text/plain": [
       "titles             0\n",
       "years              0\n",
       "genres             0\n",
       "imdb               0\n",
       "runtime_minutes    0\n",
       "description        0\n",
       "stars              0\n",
       "votes              0\n",
       "type               0\n",
       "original           0\n",
       "dtype: int64"
      ]
     },
     "execution_count": 54,
     "metadata": {},
     "output_type": "execute_result"
    }
   ],
   "execution_count": 54
  },
  {
   "metadata": {},
   "cell_type": "markdown",
   "source": [
    "- For this part of the analysis, I chose to drop the `imdb` and `votes` null columns because they represent only a small portion of the dataset and are highly subjective, which could significantly bias the evaluation of a movie. I also removed the rows with missing values in the `stars` column, since it would be impossible to accurately guess the cast of a specific title without external research, and any assumptions could compromise the reliability of future analysis. Regarding the `runtime` column, I decided to impute missing values using the `mean` runtime of each `genre`. This step was more complex, so I opted to first create a new column to standardize the data. Specifically, I removed the *'min'* text from the runtime entries and extracted only the numerical value, making it explicit in the column name that all values are in minutes. After isolating the numeric values and skipping nulls, I converted the column to a numeric type, and then applied the genre-based mean imputation.\n",
    "\n",
    "___\n",
    "\n",
    "5. Plot the histogram for numerical data.\n"
   ],
   "id": "ca6468c70f173387"
  },
  {
   "metadata": {
    "ExecuteTime": {
     "end_time": "2025-06-21T01:24:46.188223Z",
     "start_time": "2025-06-21T01:24:46.184345Z"
    }
   },
   "cell_type": "code",
   "source": "df.dtypes",
   "id": "6cae5bf926c82834",
   "outputs": [
    {
     "data": {
      "text/plain": [
       "titles              object\n",
       "years                int64\n",
       "genres              object\n",
       "imdb               float64\n",
       "runtime_minutes    float64\n",
       "description         object\n",
       "stars               object\n",
       "votes               object\n",
       "type                object\n",
       "original            object\n",
       "dtype: object"
      ]
     },
     "execution_count": 55,
     "metadata": {},
     "output_type": "execute_result"
    }
   ],
   "execution_count": 55
  },
  {
   "metadata": {
    "ExecuteTime": {
     "end_time": "2025-06-21T01:24:46.669168Z",
     "start_time": "2025-06-21T01:24:46.339880Z"
    }
   },
   "cell_type": "code",
   "source": [
    "df['votes'] = df['votes'].str.replace(',', '', regex=False)  # remove commas\n",
    "df['votes'] = pd.to_numeric(df['votes'], errors='coerce')\n",
    "\n",
    "\n",
    "df.hist(bins = 28, figsize=(10,6), color = '#FF3131')\n",
    "plt.tight_layout()\n",
    "plt.show()"
   ],
   "id": "43d83b901b905c3e",
   "outputs": [
    {
     "data": {
      "text/plain": [
       "<Figure size 1000x600 with 4 Axes>"
      ],
      "image/png": "[encoded data removed]"
     },
     "metadata": {},
     "output_type": "display_data"
    }
   ],
   "execution_count": 56
  },
  {
   "metadata": {},
   "cell_type": "markdown",
   "source": [
    "- To plot the numerical data in the dataset, I started by checking the data types using `df.dtypes`. This helped me identify which columns were numeric and could be plotted. I noticed that the votes column was stored as an object, even though it represents numerical values. To include it in the histogram, I converted the votes column to a numeric type using `pd.to_numeric()`, handling any invalid values with `errors='coerce'`. After ensuring all relevant columns were numeric, I used `df.hist()` to generate histograms for the numerical features `(years, imdb, runtime_minutes, and votes)`.\n",
    "\n",
    "___\n",
    "\n",
    "6. Plot the bar chart for top 10 genres."
   ],
   "id": "f00faecc9fb8c0af"
  },
  {
   "metadata": {
    "ExecuteTime": {
     "end_time": "2025-06-21T01:24:46.822776Z",
     "start_time": "2025-06-21T01:24:46.714452Z"
    }
   },
   "cell_type": "code",
   "source": [
    "top_ten = df['genres'].value_counts().head(10)\n",
    "\n",
    "\n",
    "top_ten.plot(kind='bar', figsize=(10,6), color='#FF3131')\n",
    "plt.title('Top 10 Genres')\n",
    "plt.xlabel('Genre')\n",
    "plt.ylabel('Count')\n",
    "plt.xticks(rotation=45)\n",
    "plt.tight_layout()\n",
    "plt.show()"
   ],
   "id": "93a597062f106378",
   "outputs": [
    {
     "data": {
      "text/plain": [
       "<Figure size 1000x600 with 1 Axes>"
      ],
      "image/png": "[encoded data removed]"
     },
     "metadata": {},
     "output_type": "display_data"
    }
   ],
   "execution_count": 57
  },
  {
   "metadata": {},
   "cell_type": "markdown",
   "source": [
    "- Top ten and bar plot 👆\n",
    "\n",
    "___\n",
    "\n",
    "7. Plot the line chart for the number of releases per year."
   ],
   "id": "3b4c7535e3e7de55"
  },
  {
   "metadata": {
    "ExecuteTime": {
     "end_time": "2025-06-21T01:24:46.951485Z",
     "start_time": "2025-06-21T01:24:46.856953Z"
    }
   },
   "cell_type": "code",
   "source": [
    "release_year = df.groupby(['years'])['years'].count()\n",
    "\n",
    "\n",
    "release_year.plot(kind='line', figsize=(10,6), color='#FF3131')\n",
    "plt.title('Number of releases per year')\n",
    "plt.xlabel('Year')\n",
    "plt.ylabel('Count')\n",
    "plt.tight_layout()\n",
    "plt.show()"
   ],
   "id": "d3b9a551c75ffe9d",
   "outputs": [
    {
     "data": {
      "text/plain": [
       "<Figure size 1000x600 with 1 Axes>"
      ],
      "image/png": "[encoded data removed]"
     },
     "metadata": {},
     "output_type": "display_data"
    }
   ],
   "execution_count": 58
  },
  {
   "metadata": {},
   "cell_type": "markdown",
   "source": [
    "- Line chart Releases/Year 👆\n",
    "\n",
    "___\n",
    "\n",
    "8. Plot the sunburst chart for the distribution of genres by content type. (Use\n",
    "plotly library)."
   ],
   "id": "52f20fda719353b4"
  },
  {
   "metadata": {
    "ExecuteTime": {
     "end_time": "2025-06-21T01:24:47.035892Z",
     "start_time": "2025-06-21T01:24:46.977501Z"
    }
   },
   "cell_type": "code",
   "source": [
    "fig = px.sunburst(df, path = ['type', 'genres'], title = 'Genres by Content Type', color_discrete_sequence=px.colors.qualitative.Bold, width=700, height=800)\n",
    "fig.show()"
   ],
   "id": "1968574cd9d91774",
   "outputs": [
    {
     "data": {
      "application/vnd.plotly.v1+json": {
       "data": [
        {
         "branchvalues": "total",
         "domain": {
          "x": [
           0.0,
           1.0
          ],
          "y": [
           0.0,
           1.0
          ]
         },
         "hovertemplate": "labels=%{label}<br>count=%{value}<br>parent=%{parent}<br>id=%{id}<extra></extra>",
         "ids": [
          "TV Show/reality-tv",
          "TV Show/comedy",
          "TV Show/crime",
          "TV Show/adventure",
          "TV Show/family",
          "TV Show/drama",
          "TV Show/action",
          "TV Show/documentary",
          "TV Show/animation",
          "TV Show/talk-show",
          "TV Show/musical",
          "TV Show/game-show",
          "TV Show/horror",
          "TV Show/thriller",
          "TV Show/short",
          "TV Show/biography",
          "TV Show/mystery",
          "TV Show/fantasy",
          "TV Show/sport",
          "TV Show/music",
          "TV Show/romance",
          "TV Show/history",
          "Movie/crime",
          "Movie/action",
          "Movie/comedy",
          "Movie/drama",
          "Movie/documentary",
          "Movie/biography",
          "Movie/horror",
          "Movie/animation",
          "Movie/adventure",
          "Movie/sci-fi",
          "Movie/thriller",
          "Movie/fantasy",
          "Movie/mystery",
          "Movie/family",
          "TV Show/sci-fi",
          "Movie/short",
          "TV Show",
          "Movie"
         ],
         "labels": [
          "reality-tv",
          "comedy",
          "crime",
          "adventure",
          "family",
          "drama",
          "action",
          "documentary",
          "animation",
          "talk-show",
          "musical",
          "game-show",
          "horror",
          "thriller",
          "short",
          "biography",
          "mystery",
          "fantasy",
          "sport",
          "music",
          "romance",
          "history",
          "crime",
          "action",
          "comedy",
          "drama",
          "documentary",
          "biography",
          "horror",
          "animation",
          "adventure",
          "sci-fi",
          "thriller",
          "fantasy",
          "mystery",
          "family",
          "sci-fi",
          "short",
          "TV Show",
          "Movie"
         ],
         "name": "",
         "parents": [
          "TV Show",
          "TV Show",
          "TV Show",
          "TV Show",
          "TV Show",
          "TV Show",
          "TV Show",
          "TV Show",
          "TV Show",
          "TV Show",
          "TV Show",
          "TV Show",
          "TV Show",
          "TV Show",
          "TV Show",
          "TV Show",
          "TV Show",
          "TV Show",
          "TV Show",
          "TV Show",
          "TV Show",
          "TV Show",
          "Movie",
          "Movie",
          "Movie",
          "Movie",
          "Movie",
          "Movie",
          "Movie",
          "Movie",
          "Movie",
          "Movie",
          "Movie",
          "Movie",
          "Movie",
          "Movie",
          "TV Show",
          "Movie",
          "",
          ""
         ],
         "values": {
          "dtype": "i2",
          "bdata": "MwBpATYAEAAIAGIAKQClAIoABQABAAwABQACAAYABQABAAMAAgAEAAEAAQATADcAfwBKAJsAEgAHABoABwABAAMAAQACAAIAAQAGANUD9wE="
         },
         "type": "sunburst"
        }
       ],
       "layout": {
        "template": {
         "data": {
          "histogram2dcontour": [
           {
            "type": "histogram2dcontour",
            "colorbar": {
             "outlinewidth": 0,
             "ticks": ""
            },
            "colorscale": [
             [
              0.0,
              "#0d0887"
             ],
             [
              0.1111111111111111,
              "#46039f"
             ],
             [
              0.2222222222222222,
              "#7201a8"
             ],
             [
              0.3333333333333333,
              "#9c179e"
             ],
             [
              0.4444444444444444,
              "#bd3786"
             ],
             [
              0.5555555555555556,
              "#d8576b"
             ],
             [
              0.6666666666666666,
              "#ed7953"
             ],
             [
              0.7777777777777778,
              "#fb9f3a"
             ],
             [
              0.8888888888888888,
              "#fdca26"
             ],
             [
              1.0,
              "#f0f921"
             ]
            ]
           }
          ],
          "choropleth": [
           {
            "type": "choropleth",
            "colorbar": {
             "outlinewidth": 0,
             "ticks": ""
            }
           }
          ],
          "histogram2d": [
           {
            "type": "histogram2d",
            "colorbar": {
             "outlinewidth": 0,
             "ticks": ""
            },
            "colorscale": [
             [
              0.0,
              "#0d0887"
             ],
             [
              0.1111111111111111,
              "#46039f"
             ],
             [
              0.2222222222222222,
              "#7201a8"
             ],
             [
              0.3333333333333333,
              "#9c179e"
             ],
             [
              0.4444444444444444,
              "#bd3786"
             ],
             [
              0.5555555555555556,
              "#d8576b"
             ],
             [
              0.6666666666666666,
              "#ed7953"
             ],
             [
              0.7777777777777778,
              "#fb9f3a"
             ],
             [
              0.8888888888888888,
              "#fdca26"
             ],
             [
              1.0,
              "#f0f921"
             ]
            ]
           }
          ],
          "heatmap": [
           {
            "type": "heatmap",
            "colorbar": {
             "outlinewidth": 0,
             "ticks": ""
            },
            "colorscale": [
             [
              0.0,
              "#0d0887"
             ],
             [
              0.1111111111111111,
              "#46039f"
             ],
             [
              0.2222222222222222,
              "#7201a8"
             ],
             [
              0.3333333333333333,
              "#9c179e"
             ],
             [
              0.4444444444444444,
              "#bd3786"
             ],
             [
              0.5555555555555556,
              "#d8576b"
             ],
             [
              0.6666666666666666,
              "#ed7953"
             ],
             [
              0.7777777777777778,
              "#fb9f3a"
             ],
             [
              0.8888888888888888,
              "#fdca26"
             ],
             [
              1.0,
              "#f0f921"
             ]
            ]
           }
          ],
          "contourcarpet": [
           {
            "type": "contourcarpet",
            "colorbar": {
             "outlinewidth": 0,
             "ticks": ""
            }
           }
          ],
          "contour": [
           {
            "type": "contour",
            "colorbar": {
             "outlinewidth": 0,
             "ticks": ""
            },
            "colorscale": [
             [
              0.0,
              "#0d0887"
             ],
             [
              0.1111111111111111,
              "#46039f"
             ],
             [
              0.2222222222222222,
              "#7201a8"
             ],
             [
              0.3333333333333333,
              "#9c179e"
             ],
             [
              0.4444444444444444,
              "#bd3786"
             ],
             [
              0.5555555555555556,
              "#d8576b"
             ],
             [
              0.6666666666666666,
              "#ed7953"
             ],
             [
              0.7777777777777778,
              "#fb9f3a"
             ],
             [
              0.8888888888888888,
              "#fdca26"
             ],
             [
              1.0,
              "#f0f921"
             ]
            ]
           }
          ],
          "surface": [
           {
            "type": "surface",
            "colorbar": {
             "outlinewidth": 0,
             "ticks": ""
            },
            "colorscale": [
             [
              0.0,
              "#0d0887"
             ],
             [
              0.1111111111111111,
              "#46039f"
             ],
             [
              0.2222222222222222,
              "#7201a8"
             ],
             [
              0.3333333333333333,
              "#9c179e"
             ],
             [
              0.4444444444444444,
              "#bd3786"
             ],
             [
              0.5555555555555556,
              "#d8576b"
             ],
             [
              0.6666666666666666,
              "#ed7953"
             ],
             [
              0.7777777777777778,
              "#fb9f3a"
             ],
             [
              0.8888888888888888,
              "#fdca26"
             ],
             [
              1.0,
              "#f0f921"
             ]
            ]
           }
          ],
          "mesh3d": [
           {
            "type": "mesh3d",
            "colorbar": {
             "outlinewidth": 0,
             "ticks": ""
            }
           }
          ],
          "scatter": [
           {
            "marker": {
             "line": {
              "color": "#283442"
             }
            },
            "type": "scatter"
           }
          ],
          "parcoords": [
           {
            "type": "parcoords",
            "line": {
             "colorbar": {
              "outlinewidth": 0,
              "ticks": ""
             }
            }
           }
          ],
          "scatterpolargl": [
           {
            "type": "scatterpolargl",
            "marker": {
             "colorbar": {
              "outlinewidth": 0,
              "ticks": ""
             }
            }
           }
          ],
          "bar": [
           {
            "error_x": {
             "color": "#f2f5fa"
            },
            "error_y": {
             "color": "#f2f5fa"
            },
            "marker": {
             "line": {
              "color": "rgb(17,17,17)",
              "width": 0.5
             },
             "pattern": {
              "fillmode": "overlay",
              "size": 10,
              "solidity": 0.2
             }
            },
            "type": "bar"
           }
          ],
          "scattergeo": [
           {
            "type": "scattergeo",
            "marker": {
             "colorbar": {
              "outlinewidth": 0,
              "ticks": ""
             }
            }
           }
          ],
          "scatterpolar": [
           {
            "type": "scatterpolar",
            "marker": {
             "colorbar": {
              "outlinewidth": 0,
              "ticks": ""
             }
            }
           }
          ],
          "histogram": [
           {
            "marker": {
             "pattern": {
              "fillmode": "overlay",
              "size": 10,
              "solidity": 0.2
             }
            },
            "type": "histogram"
           }
          ],
          "scattergl": [
           {
            "marker": {
             "line": {
              "color": "#283442"
             }
            },
            "type": "scattergl"
           }
          ],
          "scatter3d": [
           {
            "type": "scatter3d",
            "line": {
             "colorbar": {
              "outlinewidth": 0,
              "ticks": ""
             }
            },
            "marker": {
             "colorbar": {
              "outlinewidth": 0,
              "ticks": ""
             }
            }
           }
          ],
          "scattermap": [
           {
            "type": "scattermap",
            "marker": {
             "colorbar": {
              "outlinewidth": 0,
              "ticks": ""
             }
            }
           }
          ],
          "scattermapbox": [
           {
            "type": "scattermapbox",
            "marker": {
             "colorbar": {
              "outlinewidth": 0,
              "ticks": ""
             }
            }
           }
          ],
          "scatterternary": [
           {
            "type": "scatterternary",
            "marker": {
             "colorbar": {
              "outlinewidth": 0,
              "ticks": ""
             }
            }
           }
          ],
          "scattercarpet": [
           {
            "type": "scattercarpet",
            "marker": {
             "colorbar": {
              "outlinewidth": 0,
              "ticks": ""
             }
            }
           }
          ],
          "carpet": [
           {
            "aaxis": {
             "endlinecolor": "#A2B1C6",
             "gridcolor": "#506784",
             "linecolor": "#506784",
             "minorgridcolor": "#506784",
             "startlinecolor": "#A2B1C6"
            },
            "baxis": {
             "endlinecolor": "#A2B1C6",
             "gridcolor": "#506784",
             "linecolor": "#506784",
             "minorgridcolor": "#506784",
             "startlinecolor": "#A2B1C6"
            },
            "type": "carpet"
           }
          ],
          "table": [
           {
            "cells": {
             "fill": {
              "color": "#506784"
             },
             "line": {
              "color": "rgb(17,17,17)"
             }
            },
            "header": {
             "fill": {
              "color": "#2a3f5f"
             },
             "line": {
              "color": "rgb(17,17,17)"
             }
            },
            "type": "table"
           }
          ],
          "barpolar": [
           {
            "marker": {
             "line": {
              "color": "rgb(17,17,17)",
              "width": 0.5
             },
             "pattern": {
              "fillmode": "overlay",
              "size": 10,
              "solidity": 0.2
             }
            },
            "type": "barpolar"
           }
          ],
          "pie": [
           {
            "automargin": true,
            "type": "pie"
           }
          ]
         },
         "layout": {
          "autotypenumbers": "strict",
          "colorway": [
           "#636efa",
           "#EF553B",
           "#00cc96",
           "#ab63fa",
           "#FFA15A",
           "#19d3f3",
           "#FF6692",
           "#B6E880",
           "#FF97FF",
           "#FECB52"
          ],
          "font": {
           "color": "#f2f5fa"
          },
          "hovermode": "closest",
          "hoverlabel": {
           "align": "left"
          },
          "paper_bgcolor": "rgb(17,17,17)",
          "plot_bgcolor": "rgb(17,17,17)",
          "polar": {
           "bgcolor": "rgb(17,17,17)",
           "angularaxis": {
            "gridcolor": "#506784",
            "linecolor": "#506784",
            "ticks": ""
           },
           "radialaxis": {
            "gridcolor": "#506784",
            "linecolor": "#506784",
            "ticks": ""
           }
          },
          "ternary": {
           "bgcolor": "rgb(17,17,17)",
           "aaxis": {
            "gridcolor": "#506784",
            "linecolor": "#506784",
            "ticks": ""
           },
           "baxis": {
            "gridcolor": "#506784",
            "linecolor": "#506784",
            "ticks": ""
           },
           "caxis": {
            "gridcolor": "#506784",
            "linecolor": "#506784",
            "ticks": ""
           }
          },
          "coloraxis": {
           "colorbar": {
            "outlinewidth": 0,
            "ticks": ""
           }
          },
          "colorscale": {
           "sequential": [
            [
             0.0,
             "#0d0887"
            ],
            [
             0.1111111111111111,
             "#46039f"
            ],
            [
             0.2222222222222222,
             "#7201a8"
            ],
            [
             0.3333333333333333,
             "#9c179e"
            ],
            [
             0.4444444444444444,
             "#bd3786"
            ],
            [
             0.5555555555555556,
             "#d8576b"
            ],
            [
             0.6666666666666666,
             "#ed7953"
            ],
            [
             0.7777777777777778,
             "#fb9f3a"
            ],
            [
             0.8888888888888888,
             "#fdca26"
            ],
            [
             1.0,
             "#f0f921"
            ]
           ],
           "sequentialminus": [
            [
             0.0,
             "#0d0887"
            ],
            [
             0.1111111111111111,
             "#46039f"
            ],
            [
             0.2222222222222222,
             "#7201a8"
            ],
            [
             0.3333333333333333,
             "#9c179e"
            ],
            [
             0.4444444444444444,
             "#bd3786"
            ],
            [
             0.5555555555555556,
             "#d8576b"
            ],
            [
             0.6666666666666666,
             "#ed7953"
            ],
            [
             0.7777777777777778,
             "#fb9f3a"
            ],
            [
             0.8888888888888888,
             "#fdca26"
            ],
            [
             1.0,
             "#f0f921"
            ]
           ],
           "diverging": [
            [
             0,
             "#8e0152"
            ],
            [
             0.1,
             "#c51b7d"
            ],
            [
             0.2,
             "#de77ae"
            ],
            [
             0.3,
             "#f1b6da"
            ],
            [
             0.4,
             "#fde0ef"
            ],
            [
             0.5,
             "#f7f7f7"
            ],
            [
             0.6,
             "#e6f5d0"
            ],
            [
             0.7,
             "#b8e186"
            ],
            [
             0.8,
             "#7fbc41"
            ],
            [
             0.9,
             "#4d9221"
            ],
            [
             1,
             "#276419"
            ]
           ]
          },
          "xaxis": {
           "gridcolor": "#283442",
           "linecolor": "#506784",
           "ticks": "",
           "title": {
            "standoff": 15
           },
           "zerolinecolor": "#283442",
           "automargin": true,
           "zerolinewidth": 2
          },
          "yaxis": {
           "gridcolor": "#283442",
           "linecolor": "#506784",
           "ticks": "",
           "title": {
            "standoff": 15
           },
           "zerolinecolor": "#283442",
           "automargin": true,
           "zerolinewidth": 2
          },
          "scene": {
           "xaxis": {
            "backgroundcolor": "rgb(17,17,17)",
            "gridcolor": "#506784",
            "linecolor": "#506784",
            "showbackground": true,
            "ticks": "",
            "zerolinecolor": "#C8D4E3",
            "gridwidth": 2
           },
           "yaxis": {
            "backgroundcolor": "rgb(17,17,17)",
            "gridcolor": "#506784",
            "linecolor": "#506784",
            "showbackground": true,
            "ticks": "",
            "zerolinecolor": "#C8D4E3",
            "gridwidth": 2
           },
           "zaxis": {
            "backgroundcolor": "rgb(17,17,17)",
            "gridcolor": "#506784",
            "linecolor": "#506784",
            "showbackground": true,
            "ticks": "",
            "zerolinecolor": "#C8D4E3",
            "gridwidth": 2
           }
          },
          "shapedefaults": {
           "line": {
            "color": "#f2f5fa"
           }
          },
          "annotationdefaults": {
           "arrowcolor": "#f2f5fa",
           "arrowhead": 0,
           "arrowwidth": 1
          },
          "geo": {
           "bgcolor": "rgb(17,17,17)",
           "landcolor": "rgb(17,17,17)",
           "subunitcolor": "#506784",
           "showland": true,
           "showlakes": true,
           "lakecolor": "rgb(17,17,17)"
          },
          "title": {
           "x": 0.05
          },
          "updatemenudefaults": {
           "bgcolor": "#506784",
           "borderwidth": 0
          },
          "sliderdefaults": {
           "bgcolor": "#C8D4E3",
           "borderwidth": 1,
           "bordercolor": "rgb(17,17,17)",
           "tickwidth": 0
          },
          "mapbox": {
           "style": "dark"
          }
         }
        },
        "legend": {
         "tracegroupgap": 0
        },
        "title": {
         "text": "Genres by Content Type"
        },
        "sunburstcolorway": [
         "rgb(127, 60, 141)",
         "rgb(17, 165, 121)",
         "rgb(57, 105, 172)",
         "rgb(242, 183, 1)",
         "rgb(231, 63, 116)",
         "rgb(128, 186, 90)",
         "rgb(230, 131, 16)",
         "rgb(0, 134, 149)",
         "rgb(207, 28, 144)",
         "rgb(249, 123, 114)",
         "rgb(165, 170, 153)"
        ],
        "height": 800,
        "width": 700
       },
       "config": {
        "plotlyServerURL": "https://plot.ly"
       }
      }
     },
     "metadata": {},
     "output_type": "display_data"
    }
   ],
   "execution_count": 59
  },
  {
   "metadata": {},
   "cell_type": "markdown",
   "source": [
    "- Sunburst Genres by Content Type 👆\n",
    "\n",
    "___\n",
    "\n",
    "9. Perform encoding on the categorical data. Choose between label encoding, one hot encoding or ordinal encoding and provide a clear justification for choosing a particular encoding method."
   ],
   "id": "9fb6680a766af9dd"
  },
  {
   "metadata": {
    "ExecuteTime": {
     "end_time": "2025-06-21T01:24:47.070234Z",
     "start_time": "2025-06-21T01:24:47.061872Z"
    }
   },
   "cell_type": "code",
   "source": [
    "# ------ Binary label-encode ------\n",
    "df['original'] = df['original'].map({'Netflix': 1})\n",
    "\n",
    "# ------ One-Hot encode ------\n",
    "encoded_df = pd.get_dummies(df, columns=['genres', 'type'])\n",
    "encoded_df.shape"
   ],
   "id": "466a790af5d73f6c",
   "outputs": [
    {
     "data": {
      "text/plain": [
       "(1484, 33)"
      ]
     },
     "execution_count": 60,
     "metadata": {},
     "output_type": "execute_result"
    }
   ],
   "execution_count": 60
  },
  {
   "metadata": {},
   "cell_type": "markdown",
   "source": [
    "- For the column 'original', I used binary label encoding because it contains only two categories, and mapping it to 0 and 1 is straightforward and efficient. For the 'genres' and 'type' columns, I used one-hot encoding because they are nominal. One-hot encoding prevents the model from assuming any ordinal relationship between categories, which helps avoid bias in training.\n",
    "\n",
    "___\n",
    "\n",
    "10. Identify if there are any outliers in the data. If so, handle the outliers."
   ],
   "id": "e9a415d253bc1ae8"
  },
  {
   "metadata": {
    "ExecuteTime": {
     "end_time": "2025-06-21T01:24:47.120633Z",
     "start_time": "2025-06-21T01:24:47.108633Z"
    }
   },
   "cell_type": "code",
   "source": [
    "numeric_cols = encoded_df[['imdb', 'runtime_minutes', 'votes']]\n",
    "\n",
    "\n",
    "def detect_outliers_iqr(df, column):\n",
    "    Q1 = df[column].quantile(0.25)\n",
    "    Q3 = df[column].quantile(0.75)\n",
    "    IQR = Q3 - Q1\n",
    "    lower_bound = Q1 - 1.5 * IQR\n",
    "    upper_bound = Q3 + 1.5 * IQR\n",
    "    outliers = df[(df[column] < lower_bound) | (df[column] > upper_bound)]\n",
    "    return outliers\n",
    "\n",
    "\n",
    "for col in numeric_cols:\n",
    "    outliers = detect_outliers_iqr(encoded_df, col)\n",
    "    print(f\"\\nOutliers in '{col}': {outliers.shape[0]} found\")\n",
    "    print(outliers[[col]])"
   ],
   "id": "e40cacc2233c37dd",
   "outputs": [
    {
     "name": "stdout",
     "output_type": "stream",
     "text": [
      "\n",
      "Outliers in 'imdb': 17 found\n",
      "      imdb\n",
      "33     3.4\n",
      "51     3.8\n",
      "120    2.4\n",
      "235    3.2\n",
      "380    3.5\n",
      "554    3.7\n",
      "587    3.6\n",
      "711    3.2\n",
      "730    3.6\n",
      "767    2.6\n",
      "895    3.4\n",
      "968    2.5\n",
      "979    3.0\n",
      "990    2.5\n",
      "1052   3.4\n",
      "1314   2.9\n",
      "1437   3.5\n",
      "\n",
      "Outliers in 'runtime_minutes': 45 found\n",
      "      runtime_minutes\n",
      "84              629.0\n",
      "128             249.0\n",
      "495             542.0\n",
      "596             280.0\n",
      "739             209.0\n",
      "1331            241.0\n",
      "1332            233.0\n",
      "1333            403.0\n",
      "1336            296.0\n",
      "1337            204.0\n",
      "1338            213.0\n",
      "1340            385.0\n",
      "1341            317.0\n",
      "1343            331.0\n",
      "1346            393.0\n",
      "1349            491.0\n",
      "1351            436.0\n",
      "1352            284.0\n",
      "1353            573.0\n",
      "1354            281.0\n",
      "1355            572.0\n",
      "1356            494.0\n",
      "1358            229.0\n",
      "1361            240.0\n",
      "1368            191.0\n",
      "1373            360.0\n",
      "1376            403.0\n",
      "1378            290.0\n",
      "1385            202.0\n",
      "1386            226.0\n",
      "1387            205.0\n",
      "1389            211.0\n",
      "1390            280.0\n",
      "1391            347.0\n",
      "1394            252.0\n",
      "1397            452.0\n",
      "1398            370.0\n",
      "1407            192.0\n",
      "1408            270.0\n",
      "1410            187.0\n",
      "1418            236.0\n",
      "1419            179.0\n",
      "1420            245.0\n",
      "1421            191.0\n",
      "1423            267.0\n",
      "\n",
      "Outliers in 'votes': 207 found\n",
      "       votes\n",
      "4     134932\n",
      "18     22006\n",
      "38     62194\n",
      "58     43846\n",
      "63     36646\n",
      "...      ...\n",
      "1408   40227\n",
      "1410   34075\n",
      "1418   22039\n",
      "1423   24508\n",
      "1497  111229\n",
      "\n",
      "[207 rows x 1 columns]\n"
     ]
    }
   ],
   "execution_count": 61
  },
  {
   "metadata": {},
   "cell_type": "markdown",
   "source": [
    "- Number of Outliers:\n",
    "    - 'imdb': 17 found\n",
    "    - 'runtime_minutes': 45 found\n",
    "    - 'votes': 207 found\n",
    "- To detect outliers in the dataset, I selected the numerical columns `IMDB`, `Runtime`, and `Votes`, and applied the Interquartile Range (IQR) method, which is well-suited for identifying extreme values in non-normally distributed data. The `IMDB` column had the fewest outliers, followed by `Runtime`, with `Votes` showing the most. Since these outliers likely represent meaningful data (e.g., popular or long-running titles), I chose not to remove them. Instead, I applied a RobustScaler, which uses the median and IQR to scale the data, reducing the impact of outliers and preparing the dataset for future machine learning applications.\n",
    "\n",
    "\n",
    "___\n",
    "\n",
    "\n",
    "11. If given an option to replace the outliers with 0, would you do that? Why or\n",
    "why not? Provide clear justification.\n",
    "\n",
    "- Replacing with 0 is only acceptable if zero has a meaningful interpretation in the domain (e.g., \"no sales\" or \"no users\"). That’s not the case here.\n"
   ],
   "id": "5006ccce132eb934"
  },
  {
   "metadata": {},
   "cell_type": "markdown",
   "source": [
    "___\n",
    "\n",
    "12. Perform all feature scaling techniques using StandardScaler, MinMaxScaler and RobustScaler. Which method is the most appropriate for this data and why? Please provide a clear explanation."
   ],
   "id": "52dcca2a9a1f0428"
  },
  {
   "metadata": {
    "ExecuteTime": {
     "end_time": "2025-06-21T01:24:47.343938Z",
     "start_time": "2025-06-21T01:24:47.144648Z"
    }
   },
   "cell_type": "code",
   "source": [
    "# ------ Using RobustScaler ------\n",
    "scaler = RobustScaler()\n",
    "\n",
    "encoded_df[['imdb_scaled', 'runtime_scaled', 'votes_scaled']] = scaler.fit_transform(\n",
    "    encoded_df[['imdb', 'runtime_minutes', 'votes']])\n",
    "\n",
    "# ------- PLOT ------\n",
    "plt.figure(figsize=(14, 6))\n",
    "\n",
    "plt.subplot(1, 2, 1)\n",
    "sns.boxplot(data=encoded_df[['imdb', 'runtime_minutes', 'votes']])\n",
    "plt.title(\"Original Data (with outliers)\")\n",
    "plt.xticks(rotation=15)\n",
    "\n",
    "\n",
    "plt.subplot(1, 2, 2)\n",
    "sns.boxplot(data=encoded_df[['imdb_scaled', 'runtime_scaled', 'votes_scaled']])\n",
    "plt.title(\"Robust Scaled Data\")\n",
    "plt.xticks(rotation=15)\n",
    "\n",
    "plt.tight_layout()\n",
    "plt.show()"
   ],
   "id": "d4986b74c7002434",
   "outputs": [
    {
     "data": {
      "text/plain": [
       "<Figure size 1400x600 with 2 Axes>"
      ],
      "image/png": "[encoded data removed]"
     },
     "metadata": {},
     "output_type": "display_data"
    }
   ],
   "execution_count": 62
  },
  {
   "metadata": {},
   "cell_type": "markdown",
   "source": [
    "- Given the strong right-skew and meaningful high-value outliers (like popular titles with hundreds of thousands of votes), RobustScaler is the most suitable method. It uses the median and IQR, making it resistant to extreme values while keeping features on a consistent scale. This improves model performance and interpretability, especially for algorithms like regression, SVMs, K-means, and KNN, without distorting the data like clipping or log transforms might.\n",
    "\n",
    "___\n",
    "\n",
    "#### The END 🫡"
   ],
   "id": "bf27149256e483a8"
  }
 ],
 "metadata": {
  "kernelspec": {
   "display_name": "Python 3",
   "language": "python",
   "name": "python3"
  },
  "language_info": {
   "codemirror_mode": {
    "name": "ipython",
    "version": 2
   },
   "file_extension": ".py",
   "mimetype": "text/x-python",
   "name": "python",
   "nbconvert_exporter": "python",
   "pygments_lexer": "ipython2",
   "version": "2.7.6"
  }
 },
 "nbformat": 4,
 "nbformat_minor": 5
}
