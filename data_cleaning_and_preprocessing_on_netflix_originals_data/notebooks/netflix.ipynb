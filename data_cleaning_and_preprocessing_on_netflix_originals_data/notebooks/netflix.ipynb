{
 "cells": [
  {
   "cell_type": "code",
   "id": "initial_id",
   "metadata": {
    "collapsed": true,
    "ExecuteTime": {
     "end_time": "2025-06-17T03:50:23.511217Z",
     "start_time": "2025-06-17T03:50:23.507325Z"
    }
   },
   "source": "import pandas as pd",
   "outputs": [],
   "execution_count": 102
  },
  {
   "metadata": {
    "ExecuteTime": {
     "end_time": "2025-06-17T03:50:23.543965Z",
     "start_time": "2025-06-17T03:50:23.533970Z"
    }
   },
   "cell_type": "code",
   "source": "df = pd.read_csv(r\"..//data//netflix_originals.csv\")",
   "id": "2365f58212079262",
   "outputs": [],
   "execution_count": 103
  },
  {
   "metadata": {
    "ExecuteTime": {
     "end_time": "2025-06-17T03:50:23.571047Z",
     "start_time": "2025-06-17T03:50:23.564542Z"
    }
   },
   "cell_type": "code",
   "source": "df.head(10)",
   "id": "e1a5870644644017",
   "outputs": [
    {
     "data": {
      "text/plain": [
       "                  titles  years                     genres  imdb runtime  \\\n",
       "0  Zumbo's Just Desserts   2016                 Reality-TV   6.9  52 min   \n",
       "1              Zona Rosa   2019                     Comedy   6.0     NaN   \n",
       "2        Young Wallander   2020      Crime, Drama, Mystery   6.7     NaN   \n",
       "3           You vs. Wild   2019      Adventure, Reality-TV   6.7  20 min   \n",
       "4                    You   2018      Crime, Drama, Romance   7.8  45 min   \n",
       "5   YooHoo to the Rescue   2019                     Family   6.9     NaN   \n",
       "6                 Yankee   2019                      Drama   6.0  40 min   \n",
       "7           Wu Assassins   2019       Action, Crime, Drama   6.4  44 min   \n",
       "8    World's Most Wanted   2020         Documentary, Crime   7.1     NaN   \n",
       "9          World of Winx   2016  Animation, Action, Comedy   6.8  30 min   \n",
       "\n",
       "                                         description  \\\n",
       "0  Amateur Australian chefs compete to impress pa...   \n",
       "1                                         Add a Plot   \n",
       "2  Follow recently graduated police officer Kurt ...   \n",
       "3  In this interactive series, you'll make key de...   \n",
       "4  A dangerously charming, intensely obsessive yo...   \n",
       "5  In a series of magical missions, quick-witted ...   \n",
       "6  On the run from the police, an Arizona man cro...   \n",
       "7  A warrior chosen as the latest and last Wu Ass...   \n",
       "8  Heinous criminals have avoided capture despite...   \n",
       "9  The Winx travel all over the world searching f...   \n",
       "\n",
       "                                               stars    votes     type  \\\n",
       "0           Gigi Falanga, Rachel Khoo, Adriano Zumbo    1,779  TV Show   \n",
       "1  Ray Contreras, Pablo Morán, Manu Nna, Ana Juli...       33  TV Show   \n",
       "2  Adam Pålsson, Leanne Best, Richard Dillane, El...    5,419  TV Show   \n",
       "3                                        Bear Grylls    1,977  TV Show   \n",
       "4  Penn Badgley, Victoria Pedretti, Ambyr Childer...  134,932  TV Show   \n",
       "5  Ryan Bartley, Kira Buckland, Lucien Dodge, Kyl...       37  TV Show   \n",
       "6  Pablo Lyle, Ana Layevska, Pamela Almanza, Seba...      458  TV Show   \n",
       "7     Iko Uwais, Byron Mann, Li Jun Li, Lawrence Kao    9,336  TV Show   \n",
       "8  Jennifer Julian, Thomas Fuentes, Calogero Germ...    1,495  TV Show   \n",
       "9  Rebecca Soler, Alysha Deslorieux, Haven Pascha...      556  TV Show   \n",
       "\n",
       "  original  \n",
       "0  Netflix  \n",
       "1  Netflix  \n",
       "2  Netflix  \n",
       "3  Netflix  \n",
       "4  Netflix  \n",
       "5  Netflix  \n",
       "6  Netflix  \n",
       "7  Netflix  \n",
       "8  Netflix  \n",
       "9  Netflix  "
      ],
      "text/html": [
       "<div>\n",
       "<style scoped>\n",
       "    .dataframe tbody tr th:only-of-type {\n",
       "        vertical-align: middle;\n",
       "    }\n",
       "\n",
       "    .dataframe tbody tr th {\n",
       "        vertical-align: top;\n",
       "    }\n",
       "\n",
       "    .dataframe thead th {\n",
       "        text-align: right;\n",
       "    }\n",
       "</style>\n",
       "<table border=\"1\" class=\"dataframe\">\n",
       "  <thead>\n",
       "    <tr style=\"text-align: right;\">\n",
       "      <th></th>\n",
       "      <th>titles</th>\n",
       "      <th>years</th>\n",
       "      <th>genres</th>\n",
       "      <th>imdb</th>\n",
       "      <th>runtime</th>\n",
       "      <th>description</th>\n",
       "      <th>stars</th>\n",
       "      <th>votes</th>\n",
       "      <th>type</th>\n",
       "      <th>original</th>\n",
       "    </tr>\n",
       "  </thead>\n",
       "  <tbody>\n",
       "    <tr>\n",
       "      <th>0</th>\n",
       "      <td>Zumbo's Just Desserts</td>\n",
       "      <td>2016</td>\n",
       "      <td>Reality-TV</td>\n",
       "      <td>6.9</td>\n",
       "      <td>52 min</td>\n",
       "      <td>Amateur Australian chefs compete to impress pa...</td>\n",
       "      <td>Gigi Falanga, Rachel Khoo, Adriano Zumbo</td>\n",
       "      <td>1,779</td>\n",
       "      <td>TV Show</td>\n",
       "      <td>Netflix</td>\n",
       "    </tr>\n",
       "    <tr>\n",
       "      <th>1</th>\n",
       "      <td>Zona Rosa</td>\n",
       "      <td>2019</td>\n",
       "      <td>Comedy</td>\n",
       "      <td>6.0</td>\n",
       "      <td>NaN</td>\n",
       "      <td>Add a Plot</td>\n",
       "      <td>Ray Contreras, Pablo Morán, Manu Nna, Ana Juli...</td>\n",
       "      <td>33</td>\n",
       "      <td>TV Show</td>\n",
       "      <td>Netflix</td>\n",
       "    </tr>\n",
       "    <tr>\n",
       "      <th>2</th>\n",
       "      <td>Young Wallander</td>\n",
       "      <td>2020</td>\n",
       "      <td>Crime, Drama, Mystery</td>\n",
       "      <td>6.7</td>\n",
       "      <td>NaN</td>\n",
       "      <td>Follow recently graduated police officer Kurt ...</td>\n",
       "      <td>Adam Pålsson, Leanne Best, Richard Dillane, El...</td>\n",
       "      <td>5,419</td>\n",
       "      <td>TV Show</td>\n",
       "      <td>Netflix</td>\n",
       "    </tr>\n",
       "    <tr>\n",
       "      <th>3</th>\n",
       "      <td>You vs. Wild</td>\n",
       "      <td>2019</td>\n",
       "      <td>Adventure, Reality-TV</td>\n",
       "      <td>6.7</td>\n",
       "      <td>20 min</td>\n",
       "      <td>In this interactive series, you'll make key de...</td>\n",
       "      <td>Bear Grylls</td>\n",
       "      <td>1,977</td>\n",
       "      <td>TV Show</td>\n",
       "      <td>Netflix</td>\n",
       "    </tr>\n",
       "    <tr>\n",
       "      <th>4</th>\n",
       "      <td>You</td>\n",
       "      <td>2018</td>\n",
       "      <td>Crime, Drama, Romance</td>\n",
       "      <td>7.8</td>\n",
       "      <td>45 min</td>\n",
       "      <td>A dangerously charming, intensely obsessive yo...</td>\n",
       "      <td>Penn Badgley, Victoria Pedretti, Ambyr Childer...</td>\n",
       "      <td>134,932</td>\n",
       "      <td>TV Show</td>\n",
       "      <td>Netflix</td>\n",
       "    </tr>\n",
       "    <tr>\n",
       "      <th>5</th>\n",
       "      <td>YooHoo to the Rescue</td>\n",
       "      <td>2019</td>\n",
       "      <td>Family</td>\n",
       "      <td>6.9</td>\n",
       "      <td>NaN</td>\n",
       "      <td>In a series of magical missions, quick-witted ...</td>\n",
       "      <td>Ryan Bartley, Kira Buckland, Lucien Dodge, Kyl...</td>\n",
       "      <td>37</td>\n",
       "      <td>TV Show</td>\n",
       "      <td>Netflix</td>\n",
       "    </tr>\n",
       "    <tr>\n",
       "      <th>6</th>\n",
       "      <td>Yankee</td>\n",
       "      <td>2019</td>\n",
       "      <td>Drama</td>\n",
       "      <td>6.0</td>\n",
       "      <td>40 min</td>\n",
       "      <td>On the run from the police, an Arizona man cro...</td>\n",
       "      <td>Pablo Lyle, Ana Layevska, Pamela Almanza, Seba...</td>\n",
       "      <td>458</td>\n",
       "      <td>TV Show</td>\n",
       "      <td>Netflix</td>\n",
       "    </tr>\n",
       "    <tr>\n",
       "      <th>7</th>\n",
       "      <td>Wu Assassins</td>\n",
       "      <td>2019</td>\n",
       "      <td>Action, Crime, Drama</td>\n",
       "      <td>6.4</td>\n",
       "      <td>44 min</td>\n",
       "      <td>A warrior chosen as the latest and last Wu Ass...</td>\n",
       "      <td>Iko Uwais, Byron Mann, Li Jun Li, Lawrence Kao</td>\n",
       "      <td>9,336</td>\n",
       "      <td>TV Show</td>\n",
       "      <td>Netflix</td>\n",
       "    </tr>\n",
       "    <tr>\n",
       "      <th>8</th>\n",
       "      <td>World's Most Wanted</td>\n",
       "      <td>2020</td>\n",
       "      <td>Documentary, Crime</td>\n",
       "      <td>7.1</td>\n",
       "      <td>NaN</td>\n",
       "      <td>Heinous criminals have avoided capture despite...</td>\n",
       "      <td>Jennifer Julian, Thomas Fuentes, Calogero Germ...</td>\n",
       "      <td>1,495</td>\n",
       "      <td>TV Show</td>\n",
       "      <td>Netflix</td>\n",
       "    </tr>\n",
       "    <tr>\n",
       "      <th>9</th>\n",
       "      <td>World of Winx</td>\n",
       "      <td>2016</td>\n",
       "      <td>Animation, Action, Comedy</td>\n",
       "      <td>6.8</td>\n",
       "      <td>30 min</td>\n",
       "      <td>The Winx travel all over the world searching f...</td>\n",
       "      <td>Rebecca Soler, Alysha Deslorieux, Haven Pascha...</td>\n",
       "      <td>556</td>\n",
       "      <td>TV Show</td>\n",
       "      <td>Netflix</td>\n",
       "    </tr>\n",
       "  </tbody>\n",
       "</table>\n",
       "</div>"
      ]
     },
     "execution_count": 104,
     "metadata": {},
     "output_type": "execute_result"
    }
   ],
   "execution_count": 104
  },
  {
   "metadata": {
    "ExecuteTime": {
     "end_time": "2025-06-17T03:50:23.620759Z",
     "start_time": "2025-06-17T03:50:23.617786Z"
    }
   },
   "cell_type": "code",
   "source": "df.shape",
   "id": "50aa1751c6f8c34a",
   "outputs": [
    {
     "data": {
      "text/plain": [
       "(1517, 10)"
      ]
     },
     "execution_count": 105,
     "metadata": {},
     "output_type": "execute_result"
    }
   ],
   "execution_count": 105
  },
  {
   "metadata": {},
   "cell_type": "markdown",
   "source": [
    "___\n",
    "### Genre Cleaning Process"
   ],
   "id": "f4d73d8aa074bd33"
  },
  {
   "metadata": {
    "ExecuteTime": {
     "end_time": "2025-06-17T03:50:23.719470Z",
     "start_time": "2025-06-17T03:50:23.715646Z"
    }
   },
   "cell_type": "code",
   "source": "df['genres'].head(5)",
   "id": "607f3d69346450e9",
   "outputs": [
    {
     "data": {
      "text/plain": [
       "0               Reality-TV\n",
       "1                   Comedy\n",
       "2    Crime, Drama, Mystery\n",
       "3    Adventure, Reality-TV\n",
       "4    Crime, Drama, Romance\n",
       "Name: genres, dtype: object"
      ]
     },
     "execution_count": 106,
     "metadata": {},
     "output_type": "execute_result"
    }
   ],
   "execution_count": 106
  },
  {
   "metadata": {
    "ExecuteTime": {
     "end_time": "2025-06-17T03:50:23.808265Z",
     "start_time": "2025-06-17T03:50:23.804684Z"
    }
   },
   "cell_type": "code",
   "source": "df = df.dropna(subset=['genres'])",
   "id": "7438191e9ee8d3fd",
   "outputs": [],
   "execution_count": 107
  },
  {
   "metadata": {
    "ExecuteTime": {
     "end_time": "2025-06-17T03:50:23.901864Z",
     "start_time": "2025-06-17T03:50:23.898176Z"
    }
   },
   "cell_type": "code",
   "source": [
    "genres_clean = []\n",
    "\n",
    "for r in df['genres']:\n",
    "    first_genre = r.split(',')[0].strip().lower()\n",
    "    genres_clean.append(first_genre)\n",
    "\n",
    "df['genres'] = genres_clean"
   ],
   "id": "31e3cb747b893341",
   "outputs": [],
   "execution_count": 108
  },
  {
   "metadata": {
    "ExecuteTime": {
     "end_time": "2025-06-17T03:50:23.952208Z",
     "start_time": "2025-06-17T03:50:23.948120Z"
    }
   },
   "cell_type": "code",
   "source": "df['genres'].head(5)",
   "id": "d655f5df87568a52",
   "outputs": [
    {
     "data": {
      "text/plain": [
       "0    reality-tv\n",
       "1        comedy\n",
       "2         crime\n",
       "3     adventure\n",
       "4         crime\n",
       "Name: genres, dtype: object"
      ]
     },
     "execution_count": 109,
     "metadata": {},
     "output_type": "execute_result"
    }
   ],
   "execution_count": 109
  },
  {
   "metadata": {},
   "cell_type": "markdown",
   "source": "___",
   "id": "22dfd172940841f2"
  }
 ],
 "metadata": {
  "kernelspec": {
   "display_name": "Python 3",
   "language": "python",
   "name": "python3"
  },
  "language_info": {
   "codemirror_mode": {
    "name": "ipython",
    "version": 2
   },
   "file_extension": ".py",
   "mimetype": "text/x-python",
   "name": "python",
   "nbconvert_exporter": "python",
   "pygments_lexer": "ipython2",
   "version": "2.7.6"
  }
 },
 "nbformat": 4,
 "nbformat_minor": 5
}
