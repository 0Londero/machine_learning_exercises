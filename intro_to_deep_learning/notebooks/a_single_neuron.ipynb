{
 "cells": [
  {
   "cell_type": "markdown",
   "id": "5c4d3eee",
   "metadata": {},
   "source": [
    "https://www.kaggle.com/code/ryanholbrook/a-single-neuron"
   ]
  },
  {
   "cell_type": "markdown",
   "id": "73830f67",
   "metadata": {},
   "source": [
    "# 1) Input shape #\n",
    "\n",
    "How well can we predict a wine's perceived quality from the physiochemical measurements?  \n",
    "\n",
    "The target is `'quality'`, and the remaining columns are the features.  How would you set the `input_shape` parameter for a Keras model on this task?"
   ]
  },
  {
   "cell_type": "code",
   "execution_count": null,
   "id": "31aa44a8",
   "metadata": {},
   "outputs": [],
   "source": [
    "# YOUR CODE HERE\n",
    "input_shape = (11,)"
   ]
  },
  {
   "cell_type": "markdown",
   "id": "94602d8d",
   "metadata": {},
   "source": [
    "- For a Keras model, the input_shape should match the number of features (all columns except `quality`) witch is my target feature."
   ]
  },
  {
   "cell_type": "markdown",
   "id": "6dee229b",
   "metadata": {},
   "source": [
    "# 2) Define a linear model\n",
    "\n",
    "Now define a linear model appropriate for this task. Pay attention to how many inputs and outputs the model should have."
   ]
  },
  {
   "cell_type": "code",
   "execution_count": null,
   "id": "9eb112d0",
   "metadata": {},
   "outputs": [],
   "source": [
    "from tensorflow import keras\n",
    "from tensorflow.keras import layers\n",
    "\n",
    "# YOUR CODE HERE\n",
    "model = keras.Sequential([\n",
    "    layers.Dense(1, input_shape=(11,))\n",
    "])"
   ]
  },
  {
   "cell_type": "markdown",
   "id": "07a8087e",
   "metadata": {},
   "source": [
    "- A linear model takes the 11 wine features, applies weights to them, and outputs one value for predicted quality."
   ]
  },
  {
   "cell_type": "markdown",
   "id": "dce6767e",
   "metadata": {},
   "source": [
    "# 3) Look at the weights\n",
    "\n",
    "Internally, Keras represents the weights of a neural network with **tensors**. Tensors are basically TensorFlow's version of a Numpy array with a few differences that make them better suited to deep learning. One of the most important is that tensors are compatible with [GPU](https://www.kaggle.com/docs/efficient-gpu-usage) and [TPU](https://www.kaggle.com/docs/tpu)) accelerators. TPUs, in fact, are designed specifically for tensor computations.\n",
    "\n",
    "A model's weights are kept in its `weights` attribute as a list of tensors. Get the weights of the model you defined above. (If you want, you could display the weights with something like: `print(\"Weights\\n{}\\n\\nBias\\n{}\".format(w, b))`)."
   ]
  },
  {
   "cell_type": "code",
   "execution_count": null,
   "id": "9ea45360",
   "metadata": {},
   "outputs": [],
   "source": [
    "# YOUR CODE HERE\n",
    "w, b = model.weights"
   ]
  },
  {
   "cell_type": "markdown",
   "id": "6f29565f",
   "metadata": {},
   "source": [
    "- Each feature has a weight, all combined into a single prediction, plus one bias."
   ]
  }
 ],
 "metadata": {
  "kernelspec": {
   "display_name": "default_exercise",
   "language": "python",
   "name": "python3"
  },
  "language_info": {
   "codemirror_mode": {
    "name": "ipython",
    "version": 3
   },
   "file_extension": ".py",
   "mimetype": "text/x-python",
   "name": "python",
   "nbconvert_exporter": "python",
   "pygments_lexer": "ipython3",
   "version": "3.11.13"
  }
 },
 "nbformat": 4,
 "nbformat_minor": 5
}
