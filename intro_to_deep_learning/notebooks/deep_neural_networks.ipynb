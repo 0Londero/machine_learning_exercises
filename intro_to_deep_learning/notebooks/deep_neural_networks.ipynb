{
 "cells": [
  {
   "cell_type": "markdown",
   "id": "e7c0bb87",
   "metadata": {},
   "source": [
    "https://www.kaggle.com/code/ryanholbrook/deep-neural-networks"
   ]
  }
 ],
 "metadata": {
  "language_info": {
   "name": "python"
  }
 },
 "nbformat": 4,
 "nbformat_minor": 5
}
