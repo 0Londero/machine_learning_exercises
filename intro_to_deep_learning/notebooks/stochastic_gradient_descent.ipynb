{
 "cells": [
  {
   "cell_type": "markdown",
   "id": "73edd489",
   "metadata": {},
   "source": [
    "https://www.kaggle.com/code/ryanholbrook/stochastic-gradient-descent"
   ]
  },
  {
   "cell_type": "markdown",
   "id": "9f7a9a13",
   "metadata": {},
   "source": [
    "# 1) Add Loss and Optimizer\n",
    "\n",
    "Before training the network we need to define the loss and optimizer we'll use. Using the model's `compile` method, add the Adam optimizer and MAE loss.\n"
   ]
  },
  {
   "cell_type": "code",
   "execution_count": null,
   "id": "38a5e294",
   "metadata": {},
   "outputs": [],
   "source": [
    "# YOUR CODE HERE\n",
    "model.compile(\n",
    "    optimizer='adam',\n",
    "    loss='mae'\n",
    ")"
   ]
  },
  {
   "cell_type": "markdown",
   "id": "22739720",
   "metadata": {},
   "source": [
    "- Use the Adam optimizer to adjust weights efficiently and the MAE (Mean Absolute Error) loss to measure how far predictions are from the true values during training."
   ]
  },
  {
   "cell_type": "markdown",
   "id": "8cc91fa6",
   "metadata": {},
   "source": [
    "# 2) Train Model\n",
    "\n",
    "Once you've defined the model and compiled it with a loss and optimizer you're ready for training. Train the network for 200 epochs with a batch size of 128. The input data is `X` with target `y`."
   ]
  },
  {
   "cell_type": "code",
   "execution_count": null,
   "id": "2a2c6d24",
   "metadata": {},
   "outputs": [],
   "source": [
    "# YOUR CODE HERE\n",
    "history = model.fit(\n",
    "    X, y,\n",
    "    batch_size=128,\n",
    "    epochs=200\n",
    ")"
   ]
  },
  {
   "cell_type": "markdown",
   "id": "86db22b0",
   "metadata": {},
   "source": [
    "- Fit the model "
   ]
  },
  {
   "cell_type": "markdown",
   "id": "1c963077",
   "metadata": {
    "vscode": {
     "languageId": "plaintext"
    }
   },
   "source": [
    "# 3) Evaluate Training\n",
    "\n",
    "If you trained the model longer, would you expect the loss to decrease further?"
   ]
  },
  {
   "cell_type": "markdown",
   "id": "2e47464f",
   "metadata": {},
   "source": [
    "- efinitely, training longer would likely make the loss decrease at first, but after a point it may stop improving or even get worse due to overfitting"
   ]
  }
 ],
 "metadata": {
  "language_info": {
   "name": "python"
  }
 },
 "nbformat": 4,
 "nbformat_minor": 5
}
