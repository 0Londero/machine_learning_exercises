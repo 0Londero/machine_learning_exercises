{
 "cells": [
  {
   "cell_type": "markdown",
   "id": "5c4d3eee",
   "metadata": {},
   "source": [
    "https://www.kaggle.com/code/ryanholbrook/a-single-neuron"
   ]
  }
 ],
 "metadata": {
  "language_info": {
   "name": "python"
  }
 },
 "nbformat": 4,
 "nbformat_minor": 5
}
